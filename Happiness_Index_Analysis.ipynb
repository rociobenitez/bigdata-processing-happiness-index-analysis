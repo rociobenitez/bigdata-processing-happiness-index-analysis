{
 "cells": [
  {
   "cell_type": "code",
   "execution_count": 2,
   "id": "786a24b2",
   "metadata": {},
   "outputs": [
    {
     "name": "stdout",
     "output_type": "stream",
     "text": [
      "El país más feliz en 2021 es: Finland\n"
     ]
    }
   ],
   "source": [
    "# ¿Cuál es el país más \"feliz\" del 2021 según la data?\n",
    "\n",
    "import pandas as pd\n",
    "\n",
    "# Cargar el dataset de 2021\n",
    "data_2021 = pd.read_csv(\"Datasets/world-happiness-report-2021.csv\")\n",
    "\n",
    "# Encontrar el país más feliz\n",
    "pais_mas_feliz_2021 = data_2021[data_2021[\"Ladder score\"] == data_2021[\"Ladder score\"].max()][\"Country name\"].values[0]\n",
    "\n",
    "print(\"El país más feliz en 2021 es:\", pais_mas_feliz_2021)"
   ]
  },
  {
   "cell_type": "code",
   "execution_count": 3,
   "id": "d686f6f5",
   "metadata": {},
   "outputs": [
    {
     "name": "stdout",
     "output_type": "stream",
     "text": [
      "Regional indicator\n",
      "Central and Eastern Europe                      Czech Republic\n",
      "Commonwealth of Independent States                  Uzbekistan\n",
      "East Asia                             Taiwan Province of China\n",
      "Latin America and Caribbean                         Costa Rica\n",
      "Middle East and North Africa                            Israel\n",
      "North America and ANZ                              New Zealand\n",
      "South Asia                                               Nepal\n",
      "Southeast Asia                                       Singapore\n",
      "Sub-Saharan Africa                                   Mauritius\n",
      "Western Europe                                         Finland\n",
      "dtype: object\n"
     ]
    }
   ],
   "source": [
    "# ¿Cuál es el país más \"feliz\" del 2021 por continente según la data?\n",
    "\n",
    "# Agrupar por continente y encontrar el país más feliz en cada continente\n",
    "pais_mas_feliz_por_continente = data_2021.groupby(\"Regional indicator\").apply(lambda x: x[x[\"Ladder score\"] == x[\"Ladder score\"].max()][\"Country name\"].values[0])\n",
    "\n",
    "print(pais_mas_feliz_por_continente)"
   ]
  },
  {
   "cell_type": "code",
   "execution_count": 6,
   "id": "77b56841",
   "metadata": {},
   "outputs": [
    {
     "name": "stdout",
     "output_type": "stream",
     "text": [
      "El país que más veces ocupó el primer lugar es: Afghanistan\n"
     ]
    }
   ],
   "source": [
    "# ¿Cuál es el país que más veces ocupó el primer lugar en todos los años?\n",
    "\n",
    "# Cargar el dataset que contiene datos de todos los años\n",
    "data = pd.read_csv(\"Datasets/world-happiness-report.csv\")\n",
    "\n",
    "# Encontrar el país que más veces ocupó el primer lugar\n",
    "pais_mas_primero = data.groupby(\"Country name\")[\"Life Ladder\"].idxmax()\n",
    "pais_mas_primero = data.loc[pais_mas_primero][\"Country name\"].values[0]\n",
    "print(\"El país que más veces ocupó el primer lugar es:\", pais_mas_primero)"
   ]
  },
  {
   "cell_type": "code",
   "execution_count": 8,
   "id": "f0b96007",
   "metadata": {},
   "outputs": [
    {
     "name": "stdout",
     "output_type": "stream",
     "text": [
      "El país con mayor GDP en 2020 es Ireland y tiene un puntaje de felicidad de 7.035\n"
     ]
    }
   ],
   "source": [
    "# ¿Qué puesto de Felicidad tiene el país con mayor GDP del 2020?\n",
    "\n",
    "# Cargar el dataset que contiene datos de todos los años\n",
    "data = pd.read_csv(\"Datasets/world-happiness-report.csv\")\n",
    "\n",
    "# Filtrar los registros del año 2020\n",
    "data_2020 = data[data[\"year\"] == 2020]\n",
    "\n",
    "# Encontrar el país con el mayor GDP en 2020\n",
    "pais_mayor_gdp_2020 = data_2020[data_2020[\"Log GDP per capita\"] == data_2020[\"Log GDP per capita\"].max()][\"Country name\"].values[0]\n",
    "\n",
    "# Encontrar el puesto de felicidad de ese país en 2020\n",
    "puesto_felicidad_pais_mayor_gdp_2020 = data_2020[data_2020[\"Country name\"] == pais_mayor_gdp_2020][\"Life Ladder\"].values[0]\n",
    "print(\"El país con mayor GDP en 2020 es\", pais_mayor_gdp_2020, \"y tiene un puntaje de felicidad de\", puesto_felicidad_pais_mayor_gdp_2020)"
   ]
  },
  {
   "cell_type": "code",
   "execution_count": 9,
   "id": "27e9ad9d",
   "metadata": {},
   "outputs": [
    {
     "name": "stdout",
     "output_type": "stream",
     "text": [
      "El país con mayor GDP en 2020 es Ireland y tiene un puntaje de felicidad de 7.035\n",
      "El GDP promedio disminuyó en un 3.27%\n"
     ]
    }
   ],
   "source": [
    "# ¿En qué porcentaje a variado a nivel mundial el GDP promedio del 2020 respecto al 2021? ¿Aumentó o disminuyó?\n",
    "\n",
    "# Cargar los datasets\n",
    "data = pd.read_csv(\"Datasets/world-happiness-report.csv\")\n",
    "data_2021 = pd.read_csv(\"Datasets/world-happiness-report-2021.csv\")\n",
    "\n",
    "# Filtrar los registros del año 2020\n",
    "data_2020 = data[data[\"year\"] == 2020]\n",
    "\n",
    "# Encontrar el país con el mayor GDP en 2020\n",
    "pais_mayor_gdp_2020 = data_2020[data_2020[\"Log GDP per capita\"] == data_2020[\"Log GDP per capita\"].max()][\"Country name\"].values[0]\n",
    "\n",
    "# Encontrar el puesto de felicidad de ese país en 2020\n",
    "puesto_felicidad_pais_mayor_gdp_2020 = data_2020[data_2020[\"Country name\"] == pais_mayor_gdp_2020][\"Life Ladder\"].values[0]\n",
    "print(\"El país con mayor GDP en 2020 es\", pais_mayor_gdp_2020, \"y tiene un puntaje de felicidad de\", puesto_felicidad_pais_mayor_gdp_2020)\n",
    "\n",
    "# Calcular el promedio del GDP en 2020 y 2021\n",
    "promedio_gdp_2020 = data_2020[\"Log GDP per capita\"].mean()\n",
    "promedio_gdp_2021 = data_2021[\"Logged GDP per capita\"].mean()\n",
    "\n",
    "# Calcular el porcentaje de cambio\n",
    "porcentaje_cambio = ((promedio_gdp_2021 - promedio_gdp_2020) / promedio_gdp_2020) * 100\n",
    "\n",
    "if porcentaje_cambio > 0:\n",
    "    print(f\"El GDP promedio aumentó en un {porcentaje_cambio:.2f}%\")\n",
    "elif porcentaje_cambio < 0:\n",
    "    print(f\"El GDP promedio disminuyó en un {abs(porcentaje_cambio):.2f}%\")\n",
    "else:\n",
    "    print(\"El GDP promedio se mantuvo igual\")"
   ]
  },
  {
   "cell_type": "code",
   "execution_count": 11,
   "id": "ac9ffb8d",
   "metadata": {},
   "outputs": [
    {
     "name": "stdout",
     "output_type": "stream",
     "text": [
      "El país con mayor expectativa de vida es Singapore y tenía una expectativa de vida de 77.1 en 2019\n"
     ]
    }
   ],
   "source": [
    "# ¿Cuál es el país con mayor expectativa de vida (\"Healthy life expectancy at birth\")?\n",
    "# ¿Y cuánto tenía en ese indicador en 2019?\n",
    "\n",
    "# Cargar los datasets\n",
    "data = pd.read_csv(\"Datasets/world-happiness-report.csv\")\n",
    "data_2021 = pd.read_csv(\"Datasets/world-happiness-report-2021.csv\")\n",
    "\n",
    "# Filtrar los registros del año 2019\n",
    "data_2019 = data[data[\"year\"] == 2019]\n",
    "\n",
    "# Encontrar el país con mayor expectativa de vida en 2021\n",
    "pais_mayor_expectativa_vida = data_2021[data_2021[\"Healthy life expectancy\"] == data_2021[\"Healthy life expectancy\"].max()][\"Country name\"].values[0]\n",
    "\n",
    "# Encontrar la expectativa de vida de ese país en 2019\n",
    "expectativa_vida_2019 = data_2019[data_2019[\"Country name\"] == pais_mayor_expectativa_vida][\"Healthy life expectancy at birth\"].values[0]\n",
    "print(\"El país con mayor expectativa de vida es\", pais_mayor_expectativa_vida, \"y tenía una expectativa de vida de\", expectativa_vida_2019, \"en 2019\")"
   ]
  }
 ],
 "metadata": {
  "kernelspec": {
   "display_name": "Python 3 (ipykernel)",
   "language": "python",
   "name": "python3"
  },
  "language_info": {
   "codemirror_mode": {
    "name": "ipython",
    "version": 3
   },
   "file_extension": ".py",
   "mimetype": "text/x-python",
   "name": "python",
   "nbconvert_exporter": "python",
   "pygments_lexer": "ipython3",
   "version": "3.11.3"
  }
 },
 "nbformat": 4,
 "nbformat_minor": 5
}
