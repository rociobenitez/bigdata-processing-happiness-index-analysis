{
 "cells": [
  {
   "cell_type": "markdown",
   "id": "6c4e87c9",
   "metadata": {},
   "source": [
    "## Ejercicio 1 \n",
    "\n",
    "### ¿Cuál es el país más \"feliz\" del 2021 según la data?"
   ]
  },
  {
   "cell_type": "code",
   "execution_count": 16,
   "id": "786a24b2",
   "metadata": {},
   "outputs": [
    {
     "name": "stdout",
     "output_type": "stream",
     "text": [
      "El país más feliz en 2021 es: Finland\n"
     ]
    }
   ],
   "source": [
    "import pandas as pd\n",
    "\n",
    "# Cargar el dataset de 2021\n",
    "data_2021 = pd.read_csv(\"Datasets/world-happiness-report-2021.csv\")\n",
    "\n",
    "# Encontrar el país más feliz\n",
    "pais_mas_feliz_2021 = data_2021[data_2021[\"Ladder score\"] == data_2021[\"Ladder score\"].max()][\"Country name\"].values[0]\n",
    "\n",
    "print(\"El país más feliz en 2021 es:\", pais_mas_feliz_2021)"
   ]
  },
  {
   "cell_type": "markdown",
   "id": "1697e0f9",
   "metadata": {},
   "source": [
    "## Ejercicio 2\n",
    "\n",
    "### ¿Cuál es el país más \"feliz\" del 2021 por continente según la data?"
   ]
  },
  {
   "cell_type": "code",
   "execution_count": 17,
   "id": "947094ff",
   "metadata": {},
   "outputs": [
    {
     "name": "stdout",
     "output_type": "stream",
     "text": [
      "['Western Europe' 'North America and ANZ' 'Middle East and North Africa'\n",
      " 'Latin America and Caribbean' 'Central and Eastern Europe' 'East Asia'\n",
      " 'Southeast Asia' 'Commonwealth of Independent States'\n",
      " 'Sub-Saharan Africa' 'South Asia']\n"
     ]
    }
   ],
   "source": [
    "# Obtener los valores únicos de la columna \"Regional indicator\"\n",
    "valores_unicos = data_2021['Regional indicator'].unique()\n",
    "\n",
    "print(valores_unicos)"
   ]
  },
  {
   "cell_type": "code",
   "execution_count": 24,
   "id": "de87f93c",
   "metadata": {},
   "outputs": [
    {
     "name": "stdout",
     "output_type": "stream",
     "text": [
      "     Regional indicator Continent\n",
      "0        Western Europe    Europe\n",
      "1        Western Europe    Europe\n",
      "2        Western Europe    Europe\n",
      "3        Western Europe    Europe\n",
      "4        Western Europe    Europe\n",
      "..                  ...       ...\n",
      "144  Sub-Saharan Africa    Africa\n",
      "145  Sub-Saharan Africa    Africa\n",
      "146  Sub-Saharan Africa    Africa\n",
      "147  Sub-Saharan Africa    Africa\n",
      "148          South Asia      Asia\n",
      "\n",
      "[149 rows x 2 columns]\n"
     ]
    }
   ],
   "source": [
    "# Crear un diccionario de mapeo de regiones a continentes\n",
    "region_to_country = {\n",
    "    \"Western Europe\": \"Europe\",\n",
    "    \"Central and Eastern Europe\": \"Europe\",\n",
    "    \"North America and ANZ\": \"America\",\n",
    "    \"Latin America and Caribbean\": \"America\",\n",
    "    \"East Asia\": \"Asia\",\n",
    "    \"Commonwealth of Independent States\": \"Asia\",\n",
    "    \"Southeast Asia\": \"Asia\",\n",
    "    \"South Asia\": \"Asia\",\n",
    "    \"Sub-Saharan Africa\": \"Africa\",\n",
    "    \"Middle East and North Africa\": \"Africa\"\n",
    "}\n",
    "\n",
    "# Crear la nueva columna \"Country\" basada en \"Regional indicator\"\n",
    "data_2021['Continent'] = data_2021['Regional indicator'].apply(lambda x: region_to_country.get(x, x))\n",
    "\n",
    "# Mostrar el DataFrame con la nueva columna\n",
    "print(data_2021[['Regional indicator', 'Continent']])"
   ]
  },
  {
   "cell_type": "code",
   "execution_count": 25,
   "id": "e05c130e",
   "metadata": {},
   "outputs": [
    {
     "name": "stdout",
     "output_type": "stream",
     "text": [
      "Continent\n",
      "Africa                       Israel\n",
      "America                 New Zealand\n",
      "Asia       Taiwan Province of China\n",
      "Europe                      Finland\n",
      "dtype: object\n"
     ]
    }
   ],
   "source": [
    "# Agrupar por continente y encontrar el país más feliz en cada continente\n",
    "pais_mas_feliz_por_continente = data_2021.groupby(\"Continent\").apply(lambda x: x[x[\"Ladder score\"] == x[\"Ladder score\"].max()][\"Country name\"].values[0])\n",
    "\n",
    "print(pais_mas_feliz_por_continente)"
   ]
  },
  {
   "cell_type": "markdown",
   "id": "b41f04a0",
   "metadata": {},
   "source": [
    "**Israel es el país más feliz en África, Nueva Zelanda en América, Taiwán en Asia y Finlandia es el país más feliz en Europa.**"
   ]
  },
  {
   "cell_type": "markdown",
   "id": "e87d2fc2",
   "metadata": {},
   "source": [
    "## Ejercicio 3\n",
    "\n",
    "### ¿Cuál es el país que más veces ocupó el primer lugar en todos los años?"
   ]
  },
  {
   "cell_type": "code",
   "execution_count": 32,
   "id": "77b56841",
   "metadata": {},
   "outputs": [],
   "source": [
    "# Cargar el dataset que contiene datos de todos los años\n",
    "data = pd.read_csv(\"Datasets/world-happiness-report.csv\")"
   ]
  },
  {
   "cell_type": "code",
   "execution_count": 33,
   "id": "793b9b12",
   "metadata": {},
   "outputs": [
    {
     "name": "stdout",
     "output_type": "stream",
     "text": [
      "     Country name  year\n",
      "449       Denmark  2005\n",
      "551       Finland  2006\n",
      "450       Denmark  2007\n",
      "451       Denmark  2008\n",
      "452       Denmark  2009\n",
      "453       Denmark  2010\n",
      "454       Denmark  2011\n",
      "1654  Switzerland  2012\n",
      "300        Canada  2013\n",
      "457       Denmark  2014\n",
      "1304       Norway  2015\n",
      "559       Finland  2016\n",
      "560       Finland  2017\n",
      "561       Finland  2018\n",
      "562       Finland  2019\n",
      "563       Finland  2020\n"
     ]
    }
   ],
   "source": [
    "# Agrupar los datos por año y encontrar el país con la puntuación de \"Life Ladder\" más alta en cada año\n",
    "pais_mas_feliz_por_anio = data.groupby(\"year\")[\"Life Ladder\"].idxmax()\n",
    "\n",
    "# Obtener los nombres de los países y los años correspondientes a los índices máximos\n",
    "paises_mas_felices = data.loc[pais_mas_feliz_por_anio, [\"Country name\", \"year\"]]\n",
    "\n",
    "# Mostrar el resultado\n",
    "print(paises_mas_felices)"
   ]
  },
  {
   "cell_type": "code",
   "execution_count": 34,
   "id": "f76bcb49",
   "metadata": {},
   "outputs": [
    {
     "name": "stdout",
     "output_type": "stream",
     "text": [
      "El país más feliz en 2021 es: Finland\n"
     ]
    }
   ],
   "source": [
    "print(\"El país más feliz en 2021 es:\", pais_mas_feliz_2021)"
   ]
  },
  {
   "cell_type": "markdown",
   "id": "2a1d61bd",
   "metadata": {},
   "source": [
    "**Finlandia: 7 | Dinamarca: 7**"
   ]
  },
  {
   "cell_type": "markdown",
   "id": "c6ab59fd",
   "metadata": {},
   "source": [
    "## Ejercicio 4\n",
    "\n",
    "### ¿Qué puesto de Felicidad tiene el país con mayor GDP del 2020?"
   ]
  },
  {
   "cell_type": "code",
   "execution_count": 8,
   "id": "f0b96007",
   "metadata": {},
   "outputs": [
    {
     "name": "stdout",
     "output_type": "stream",
     "text": [
      "El país con mayor GDP en 2020 es Ireland y tiene un puntaje de felicidad de 7.035\n"
     ]
    }
   ],
   "source": [
    "# Cargar el dataset que contiene datos de todos los años\n",
    "data = pd.read_csv(\"Datasets/world-happiness-report.csv\")\n",
    "\n",
    "# Filtrar los registros del año 2020\n",
    "data_2020 = data[data[\"year\"] == 2020]\n",
    "\n",
    "# Encontrar el país con el mayor GDP en 2020\n",
    "pais_mayor_gdp_2020 = data_2020[data_2020[\"Log GDP per capita\"] == data_2020[\"Log GDP per capita\"].max()][\"Country name\"].values[0]\n",
    "\n",
    "# Encontrar el puesto de felicidad de ese país en 2020\n",
    "puesto_felicidad_pais_mayor_gdp_2020 = data_2020[data_2020[\"Country name\"] == pais_mayor_gdp_2020][\"Life Ladder\"].values[0]\n",
    "print(\"El país con mayor GDP en 2020 es\", pais_mayor_gdp_2020, \"y tiene un puntaje de felicidad de\", puesto_felicidad_pais_mayor_gdp_2020)"
   ]
  },
  {
   "cell_type": "markdown",
   "id": "be912120",
   "metadata": {},
   "source": [
    "## Ejercicio 5\n",
    "\n",
    "### ¿En qué porcentaje ha variado a nivel mundial el GDP promedio del 2020 respecto al 2021?\n",
    "### ¿Aumentó o disminuyó?"
   ]
  },
  {
   "cell_type": "code",
   "execution_count": 43,
   "id": "27e9ad9d",
   "metadata": {},
   "outputs": [
    {
     "name": "stdout",
     "output_type": "stream",
     "text": [
      "   GDP_2020  GDP_2021  Variación\n",
      "0   9.75133  9.432208   3.383317\n"
     ]
    }
   ],
   "source": [
    "# Cargar los datasets\n",
    "data = pd.read_csv(\"Datasets/world-happiness-report.csv\")\n",
    "data_2021 = pd.read_csv(\"Datasets/world-happiness-report-2021.csv\")\n",
    "\n",
    "# Filtrar los registros del año 2020\n",
    "data_2020 = data[data[\"year\"] == 2020]\n",
    "\n",
    "# Calcular el promedio del GDP en 2020 y 2021\n",
    "promedio_gdp_2020 = data_2020[\"Log GDP per capita\"].mean()\n",
    "promedio_gdp_2021 = data_2021[\"Logged GDP per capita\"].mean()\n",
    "\n",
    "print(promedio_gdp_2020)\n",
    "print(promedio_gdp_2021)\n",
    "\n",
    "# Calcular el porcentaje de cambio\n",
    "porcentaje_cambio = ((promedio_gdp_2021 - promedio_gdp_2020) / promedio_gdp_2020) * 100\n",
    "\n",
    "if porcentaje_cambio > 0:\n",
    "    print(f\"El GDP promedio aumentó en un {porcentaje_cambio:.2f}%\")\n",
    "elif porcentaje_cambio < 0:\n",
    "    print(f\"El GDP promedio disminuyó en un {abs(porcentaje_cambio):.2f}%\")\n",
    "else:\n",
    "    print(\"El GDP promedio se mantuvo igual\")"
   ]
  },
  {
   "cell_type": "code",
   "execution_count": 42,
   "id": "bb4c0cfa",
   "metadata": {},
   "outputs": [
    {
     "name": "stdout",
     "output_type": "stream",
     "text": [
      "   GDP_2020  GDP_2021  Variación\n",
      "0   9.75133  9.432208   3.383317\n"
     ]
    }
   ],
   "source": [
    "# Calcular el promedio del GDP en 2020 y 2021\n",
    "promedio_gdp_2020 = data_2020[\"Log GDP per capita\"].mean()\n",
    "promedio_gdp_2021 = data_2021[\"Logged GDP per capita\"].mean()\n",
    "\n",
    "# Crear un DataFrame con los promedios de GDP para ambos años\n",
    "df_promedios = pd.DataFrame({'GDP_2020': [promedio_gdp_2020], 'GDP_2021': [promedio_gdp_2021]})\n",
    "\n",
    "# Calcular la variación del GDP promedio\n",
    "df_promedios['Variación'] = ((df_promedios['GDP_2020'] - df_promedios['GDP_2021']) / df_promedios['GDP_2021']) * 100\n",
    "\n",
    "# Mostrar el resultado\n",
    "print(df_promedios)"
   ]
  },
  {
   "cell_type": "code",
   "execution_count": 46,
   "id": "8400522e",
   "metadata": {},
   "outputs": [
    {
     "ename": "TypeError",
     "evalue": "unsupported format string passed to Series.__format__",
     "output_type": "error",
     "traceback": [
      "\u001b[0;31m---------------------------------------------------------------------------\u001b[0m",
      "\u001b[0;31mTypeError\u001b[0m                                 Traceback (most recent call last)",
      "Cell \u001b[0;32mIn[46], line 3\u001b[0m\n\u001b[1;32m      1\u001b[0m \u001b[38;5;66;03m# Verificar la variación del GDP promedio y mostrar el resultado\u001b[39;00m\n\u001b[1;32m      2\u001b[0m \u001b[38;5;28;01mif\u001b[39;00m df_promedios[\u001b[38;5;124m'\u001b[39m\u001b[38;5;124mVariación\u001b[39m\u001b[38;5;124m'\u001b[39m]\u001b[38;5;241m.\u001b[39mitem() \u001b[38;5;241m>\u001b[39m \u001b[38;5;241m0\u001b[39m:\n\u001b[0;32m----> 3\u001b[0m     \u001b[38;5;28mprint\u001b[39m(\u001b[38;5;124mf\u001b[39m\u001b[38;5;124m\"\u001b[39m\u001b[38;5;124mEl GDP promedio aumentó en un \u001b[39m\u001b[38;5;132;01m{\u001b[39;00mdf_promedios[\u001b[38;5;124m'\u001b[39m\u001b[38;5;124mVariación\u001b[39m\u001b[38;5;124m'\u001b[39m]\u001b[38;5;132;01m:\u001b[39;00m\u001b[38;5;124m.2f\u001b[39m\u001b[38;5;132;01m}\u001b[39;00m\u001b[38;5;124m%\u001b[39m\u001b[38;5;124m\"\u001b[39m)\n\u001b[1;32m      4\u001b[0m \u001b[38;5;28;01melif\u001b[39;00m df_promedios[\u001b[38;5;124m'\u001b[39m\u001b[38;5;124mVariación\u001b[39m\u001b[38;5;124m'\u001b[39m]\u001b[38;5;241m.\u001b[39mitem() \u001b[38;5;241m<\u001b[39m \u001b[38;5;241m0\u001b[39m:\n\u001b[1;32m      5\u001b[0m     \u001b[38;5;28mprint\u001b[39m(\u001b[38;5;124mf\u001b[39m\u001b[38;5;124m\"\u001b[39m\u001b[38;5;124mEl GDP promedio disminuyó en un \u001b[39m\u001b[38;5;132;01m{\u001b[39;00m\u001b[38;5;28mabs\u001b[39m(df_promedios[\u001b[38;5;124m'\u001b[39m\u001b[38;5;124mVariación\u001b[39m\u001b[38;5;124m'\u001b[39m])\u001b[38;5;132;01m:\u001b[39;00m\u001b[38;5;124m.2f\u001b[39m\u001b[38;5;132;01m}\u001b[39;00m\u001b[38;5;124m%\u001b[39m\u001b[38;5;124m\"\u001b[39m)\n",
      "\u001b[0;31mTypeError\u001b[0m: unsupported format string passed to Series.__format__"
     ]
    }
   ],
   "source": [
    "# Verificar la variación del GDP promedio y mostrar el resultado\n",
    "if df_promedios['Variación'].item() > 0:\n",
    "    print(f\"El GDP promedio aumentó en un {df_promedios['Variación']:.2f}%\")\n",
    "elif df_promedios['Variación'].item() < 0:\n",
    "    print(f\"El GDP promedio disminuyó en un {abs(df_promedios['Variación']):.2f}%\")\n",
    "else:\n",
    "    print(\"El GDP promedio se mantuvo igual\")"
   ]
  },
  {
   "cell_type": "markdown",
   "id": "0a754d72",
   "metadata": {},
   "source": [
    "## Ejercicio 5\n",
    "\n",
    "### ¿Cuál es el país con mayor expectativa de vida (\"Healthy life expectancy at birth\")?\n",
    "### ¿Y cuánto tenía en ese indicador en 2019?"
   ]
  },
  {
   "cell_type": "code",
   "execution_count": 37,
   "id": "ac9ffb8d",
   "metadata": {},
   "outputs": [
    {
     "name": "stdout",
     "output_type": "stream",
     "text": [
      "El país con mayor expectativa de vida es Singapore y tenía una expectativa de vida de 77.1 en 2019\n"
     ]
    }
   ],
   "source": [
    "# Cargar los datasets\n",
    "data = pd.read_csv(\"Datasets/world-happiness-report.csv\")\n",
    "data_2021 = pd.read_csv(\"Datasets/world-happiness-report-2021.csv\")\n",
    "\n",
    "# Filtrar los registros del año 2019\n",
    "data_2019 = data[data[\"year\"] == 2019]\n",
    "\n",
    "# Encontrar el país con mayor expectativa de vida en 2021\n",
    "pais_mayor_expectativa_vida = data_2021[data_2021[\"Healthy life expectancy\"] == data_2021[\"Healthy life expectancy\"].max()][\"Country name\"].values[0]\n",
    "\n",
    "# Encontrar la expectativa de vida de ese país en 2019\n",
    "expectativa_vida_2019 = data_2019[data_2019[\"Country name\"] == pais_mayor_expectativa_vida][\"Healthy life expectancy at birth\"].values[0]\n",
    "print(\"El país con mayor expectativa de vida es\", pais_mayor_expectativa_vida, \"y tenía una expectativa de vida de\", expectativa_vida_2019, \"en 2019\")"
   ]
  }
 ],
 "metadata": {
  "kernelspec": {
   "display_name": "Python 3 (ipykernel)",
   "language": "python",
   "name": "python3"
  },
  "language_info": {
   "codemirror_mode": {
    "name": "ipython",
    "version": 3
   },
   "file_extension": ".py",
   "mimetype": "text/x-python",
   "name": "python",
   "nbconvert_exporter": "python",
   "pygments_lexer": "ipython3",
   "version": "3.11.5"
  }
 },
 "nbformat": 4,
 "nbformat_minor": 5
}
