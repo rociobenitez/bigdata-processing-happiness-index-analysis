{
 "cells": [
  {
   "cell_type": "markdown",
   "id": "382bfb56",
   "metadata": {},
   "source": [
    "**Paso 1: Instalar el paquete**"
   ]
  },
  {
   "cell_type": "code",
   "execution_count": null,
   "id": "95c1f4bb",
   "metadata": {},
   "outputs": [],
   "source": [
    "pip install spylon-kernel"
   ]
  },
  {
   "cell_type": "markdown",
   "id": "43fe7910",
   "metadata": {},
   "source": [
    "**Paso 2: Crear una especificación de kernel**\n",
    "\n",
    "Esto nos permitirá seleccionar el kernel de Scala en el cuaderno"
   ]
  },
  {
   "cell_type": "code",
   "execution_count": null,
   "id": "f0e2b2de",
   "metadata": {},
   "outputs": [],
   "source": [
    "python -m spylon_kernel install"
   ]
  },
  {
   "cell_type": "markdown",
   "id": "0bfd8438",
   "metadata": {},
   "source": [
    "**Paso 3: Iniciar el cuarderno de Jupyter**"
   ]
  },
  {
   "cell_type": "code",
   "execution_count": null,
   "id": "42c7a45b",
   "metadata": {},
   "outputs": [],
   "source": [
    "ipython notebook"
   ]
  },
  {
   "cell_type": "markdown",
   "id": "df33cf8f",
   "metadata": {},
   "source": [
    "Y en el cuaderno seleccionamos `Nuevo -> spylon-kernel`. Esto iniciará nuestro kernel de Scala."
   ]
  },
  {
   "cell_type": "markdown",
   "id": "b1e35552",
   "metadata": {},
   "source": [
    "**Paso 4: Probando el notebook**\n",
    "\n",
    "Escribimos un poco de código en Scala."
   ]
  },
  {
   "cell_type": "code",
   "execution_count": null,
   "id": "74829b9a",
   "metadata": {},
   "outputs": [
    {
     "data": {
      "text/plain": [
       "Intitializing Scala interpreter ..."
      ]
     },
     "metadata": {},
     "output_type": "display_data"
    }
   ],
   "source": [
    "val x = 2\n",
    "val y = 3\n",
    "x+y"
   ]
  }
 ],
 "metadata": {
  "kernelspec": {
   "display_name": "spylon-kernel",
   "language": "scala",
   "name": "spylon-kernel"
  },
  "language_info": {
   "codemirror_mode": "text/x-scala",
   "file_extension": ".scala",
   "help_links": [
    {
     "text": "MetaKernel Magics",
     "url": "https://metakernel.readthedocs.io/en/latest/source/README.html"
    }
   ],
   "mimetype": "text/x-scala",
   "name": "scala",
   "pygments_lexer": "scala",
   "version": "0.4.1"
  }
 },
 "nbformat": 4,
 "nbformat_minor": 5
}
