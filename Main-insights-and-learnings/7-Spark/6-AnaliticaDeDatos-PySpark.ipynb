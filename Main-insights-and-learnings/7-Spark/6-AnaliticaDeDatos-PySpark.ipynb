{
 "cells": [
  {
   "cell_type": "markdown",
   "metadata": {},
   "source": [
    "# Analítica Avanzada de datos con PySpark"
   ]
  },
  {
   "cell_type": "markdown",
   "metadata": {},
   "source": [
    "En este notebook haremos recopilación de las funciones más habituales que se utilizan en el análisis y pre-procesamiento de los datos"
   ]
  },
  {
   "cell_type": "code",
   "execution_count": 1,
   "metadata": {},
   "outputs": [],
   "source": [
    "import findspark\n",
    "findspark.init()\n",
    "\n",
    "import pandas as pd\n",
    "import pyspark"
   ]
  },
  {
   "cell_type": "code",
   "execution_count": 2,
   "metadata": {
    "id": "z5elOd3_urwh"
   },
   "outputs": [],
   "source": [
    "from pyspark.sql import functions as f\n",
    "import pandas as pd\n",
    "import seaborn as sns\n",
    "import matplotlib.pyplot as plt\n",
    "\n",
    "%matplotlib inline"
   ]
  },
  {
   "cell_type": "markdown",
   "metadata": {
    "id": "QZMQsAItvF9I"
   },
   "source": [
    "### Inicio de la sesión de Spark"
   ]
  },
  {
   "cell_type": "code",
   "execution_count": 3,
   "metadata": {
    "id": "nZXXfyQ_oFfx"
   },
   "outputs": [
    {
     "name": "stderr",
     "output_type": "stream",
     "text": [
      "Setting default log level to \"WARN\".\n",
      "To adjust logging level use sc.setLogLevel(newLevel). For SparkR, use setLogLevel(newLevel).\n",
      "23/11/09 10:59:28 WARN NativeCodeLoader: Unable to load native-hadoop library for your platform... using builtin-java classes where applicable\n",
      "23/11/09 10:59:29 WARN Utils: Service 'SparkUI' could not bind on port 4040. Attempting port 4041.\n",
      "23/11/09 10:59:29 WARN Utils: Service 'SparkUI' could not bind on port 4041. Attempting port 4042.\n",
      "23/11/09 10:59:41 WARN GarbageCollectionMetrics: To enable non-built-in garbage collector(s) List(G1 Concurrent GC), users should configure it(them) to spark.eventLog.gcMetrics.youngGenerationGarbageCollectors or spark.eventLog.gcMetrics.oldGenerationGarbageCollectors\n"
     ]
    }
   ],
   "source": [
    "from pyspark.sql import SparkSession\n",
    "\n",
    "spark = SparkSession.builder\\\n",
    "        .master(\"local[*]\")\\\n",
    "        .appName('PySpark_Tutorial')\\\n",
    "        .getOrCreate()"
   ]
  },
  {
   "cell_type": "markdown",
   "metadata": {
    "id": "6nlaWsM6veh_"
   },
   "source": [
    "## 1. Lectura de los datos"
   ]
  },
  {
   "cell_type": "code",
   "execution_count": 4,
   "metadata": {
    "colab": {
     "base_uri": "https://localhost:8080/",
     "height": 269
    },
    "id": "J7AR4YTjeR-6",
    "outputId": "a5dab4f8-606a-4ab4-fbf0-fb88c846aaa9"
   },
   "outputs": [
    {
     "name": "stdout",
     "output_type": "stream",
     "text": [
      "root\n",
      " |-- _c0: string (nullable = true)\n",
      " |-- symbol: string (nullable = true)\n",
      " |-- date: string (nullable = true)\n",
      " |-- open: string (nullable = true)\n",
      " |-- high: string (nullable = true)\n",
      " |-- low: string (nullable = true)\n",
      " |-- close: string (nullable = true)\n",
      " |-- volume: string (nullable = true)\n",
      " |-- adjusted: string (nullable = true)\n",
      " |-- market.cap: string (nullable = true)\n",
      " |-- sector: string (nullable = true)\n",
      " |-- industry: string (nullable = true)\n",
      " |-- exchange: string (nullable = true)\n",
      "\n"
     ]
    }
   ],
   "source": [
    "# Before changing schema\n",
    "b_data = spark.read.csv(\n",
    "    'data/stocks_price_final.csv',\n",
    "    sep = ',',\n",
    "    header = True,\n",
    "    )\n",
    "\n",
    "b_data.printSchema()"
   ]
  },
  {
   "cell_type": "markdown",
   "metadata": {},
   "source": [
    "#### Cambiar la estructura de datos"
   ]
  },
  {
   "cell_type": "code",
   "execution_count": 5,
   "metadata": {
    "id": "dGT7jy3DDuLz"
   },
   "outputs": [],
   "source": [
    "from pyspark.sql.types import *\n",
    "\n",
    "data_schema = [\n",
    "               StructField('_c0', IntegerType(), True),\n",
    "               StructField('symbol', StringType(), True),\n",
    "               StructField('data', DateType(), True),\n",
    "               StructField('open', DoubleType(), True),\n",
    "               StructField('high', DoubleType(), True),\n",
    "               StructField('low', DoubleType(), True),\n",
    "               StructField('close', DoubleType(), True),\n",
    "               StructField('volume', IntegerType(), True),\n",
    "               StructField('adjusted', DoubleType(), True),\n",
    "               StructField('market.cap', StringType(), True),\n",
    "               StructField('sector', StringType(), True),\n",
    "               StructField('industry', StringType(), True),\n",
    "               StructField('exchange', StringType(), True),\n",
    "            ]\n",
    "\n",
    "final_struc = StructType(fields=data_schema)"
   ]
  },
  {
   "cell_type": "code",
   "execution_count": 6,
   "metadata": {
    "id": "WAThgJoIvcKI"
   },
   "outputs": [],
   "source": [
    "data = spark.read.csv(\n",
    "    'data/stocks_price_final.csv',\n",
    "    header = True,\n",
    "    schema = final_struc\n",
    "    )"
   ]
  },
  {
   "cell_type": "code",
   "execution_count": 7,
   "metadata": {
    "colab": {
     "base_uri": "https://localhost:8080/",
     "height": 269
    },
    "id": "NCFGHCsUyamR",
    "outputId": "d74d286c-fe98-40b3-8576-64a71630c0c9"
   },
   "outputs": [
    {
     "name": "stdout",
     "output_type": "stream",
     "text": [
      "root\n",
      " |-- _c0: integer (nullable = true)\n",
      " |-- symbol: string (nullable = true)\n",
      " |-- data: date (nullable = true)\n",
      " |-- open: double (nullable = true)\n",
      " |-- high: double (nullable = true)\n",
      " |-- low: double (nullable = true)\n",
      " |-- close: double (nullable = true)\n",
      " |-- volume: integer (nullable = true)\n",
      " |-- adjusted: double (nullable = true)\n",
      " |-- market.cap: string (nullable = true)\n",
      " |-- sector: string (nullable = true)\n",
      " |-- industry: string (nullable = true)\n",
      " |-- exchange: string (nullable = true)\n",
      "\n"
     ]
    }
   ],
   "source": [
    "data.printSchema()"
   ]
  },
  {
   "cell_type": "code",
   "execution_count": 8,
   "metadata": {
    "colab": {
     "base_uri": "https://localhost:8080/",
     "height": 202
    },
    "id": "bUgocSgd_gqy",
    "outputId": "0ef2e836-f2f2-41c2-e671-0ae8c87c9fd2"
   },
   "outputs": [
    {
     "name": "stdout",
     "output_type": "stream",
     "text": [
      "+---+------+----------+---------+---------+---------+---------+-------+---------+----------+-------------+--------------------+--------+\n",
      "|_c0|symbol|      data|     open|     high|      low|    close| volume| adjusted|market.cap|       sector|            industry|exchange|\n",
      "+---+------+----------+---------+---------+---------+---------+-------+---------+----------+-------------+--------------------+--------+\n",
      "|  1|   TXG|2019-09-12|     54.0|     58.0|     51.0|    52.75|7326300|    52.75|    $9.31B|Capital Goods|Biotechnology: La...|  NASDAQ|\n",
      "|  2|   TXG|2019-09-13|    52.75|   54.355|49.150002|    52.27|1025200|    52.27|    $9.31B|Capital Goods|Biotechnology: La...|  NASDAQ|\n",
      "|  3|   TXG|2019-09-16|52.450001|     56.0|52.009998|55.200001| 269900|55.200001|    $9.31B|Capital Goods|Biotechnology: La...|  NASDAQ|\n",
      "|  4|   TXG|2019-09-17|56.209999|60.900002|   55.423|56.779999| 602800|56.779999|    $9.31B|Capital Goods|Biotechnology: La...|  NASDAQ|\n",
      "|  5|   TXG|2019-09-18|56.849998|    62.27|55.650002|     62.0|1589600|     62.0|    $9.31B|Capital Goods|Biotechnology: La...|  NASDAQ|\n",
      "+---+------+----------+---------+---------+---------+---------+-------+---------+----------+-------------+--------------------+--------+\n",
      "only showing top 5 rows\n",
      "\n"
     ]
    },
    {
     "name": "stderr",
     "output_type": "stream",
     "text": [
      "23/11/09 11:00:46 WARN CSVHeaderChecker: CSV header does not conform to the schema.\n",
      " Header: , symbol, date, open, high, low, close, volume, adjusted, market.cap, sector, industry, exchange\n",
      " Schema: _c0, symbol, data, open, high, low, close, volume, adjusted, market.cap, sector, industry, exchange\n",
      "Expected: _c0 but found: \n",
      "CSV file: file:///Users/rociobenitezgarcia/Desktop/BigDataProcessing/data/stocks_price_final.csv\n"
     ]
    }
   ],
   "source": [
    "data.show(5)"
   ]
  },
  {
   "cell_type": "code",
   "execution_count": 9,
   "metadata": {
    "id": "us8Ks-FEHTYe"
   },
   "outputs": [
    {
     "name": "stdout",
     "output_type": "stream",
     "text": [
      "+---+------+----------+---------+---------+---------+---------+-------+---------+----------+-------------+--------------------+--------+\n",
      "|_c0|symbol|      data|     open|     high|      low|    close| volume| adjusted|market_cap|       sector|            industry|exchange|\n",
      "+---+------+----------+---------+---------+---------+---------+-------+---------+----------+-------------+--------------------+--------+\n",
      "|  1|   TXG|2019-09-12|     54.0|     58.0|     51.0|    52.75|7326300|    52.75|    $9.31B|Capital Goods|Biotechnology: La...|  NASDAQ|\n",
      "|  2|   TXG|2019-09-13|    52.75|   54.355|49.150002|    52.27|1025200|    52.27|    $9.31B|Capital Goods|Biotechnology: La...|  NASDAQ|\n",
      "|  3|   TXG|2019-09-16|52.450001|     56.0|52.009998|55.200001| 269900|55.200001|    $9.31B|Capital Goods|Biotechnology: La...|  NASDAQ|\n",
      "|  4|   TXG|2019-09-17|56.209999|60.900002|   55.423|56.779999| 602800|56.779999|    $9.31B|Capital Goods|Biotechnology: La...|  NASDAQ|\n",
      "|  5|   TXG|2019-09-18|56.849998|    62.27|55.650002|     62.0|1589600|     62.0|    $9.31B|Capital Goods|Biotechnology: La...|  NASDAQ|\n",
      "+---+------+----------+---------+---------+---------+---------+-------+---------+----------+-------------+--------------------+--------+\n",
      "only showing top 5 rows\n",
      "\n"
     ]
    },
    {
     "name": "stderr",
     "output_type": "stream",
     "text": [
      "23/11/09 11:01:08 WARN CSVHeaderChecker: CSV header does not conform to the schema.\n",
      " Header: , symbol, date, open, high, low, close, volume, adjusted, market.cap, sector, industry, exchange\n",
      " Schema: _c0, symbol, data, open, high, low, close, volume, adjusted, market.cap, sector, industry, exchange\n",
      "Expected: _c0 but found: \n",
      "CSV file: file:///Users/rociobenitezgarcia/Desktop/BigDataProcessing/data/stocks_price_final.csv\n"
     ]
    }
   ],
   "source": [
    "data = data.withColumnRenamed('market.cap', 'market_cap') #cambio del nombre de la variable!\n",
    "data.show(5)"
   ]
  },
  {
   "cell_type": "markdown",
   "metadata": {
    "id": "a0aFk3S-mN50"
   },
   "source": [
    "## 2. Inspeccionar los datos\n",
    "* schema()\n",
    "* dtypes\n",
    "* head()\n",
    "* show()\n",
    "* first()\n",
    "* take(n)\n",
    "* describe()\n",
    "* columns\n",
    "* count()\n",
    "* distinct()\n",
    "* printSchema()"
   ]
  },
  {
   "cell_type": "code",
   "execution_count": 10,
   "metadata": {
    "colab": {
     "base_uri": "https://localhost:8080/",
     "height": 54
    },
    "id": "heGhvrD_mSZZ",
    "outputId": "5b629e83-b8e2-49a1-b7d2-dfc3f8c568d7"
   },
   "outputs": [
    {
     "data": {
      "text/plain": [
       "StructType([StructField('_c0', IntegerType(), True), StructField('symbol', StringType(), True), StructField('data', DateType(), True), StructField('open', DoubleType(), True), StructField('high', DoubleType(), True), StructField('low', DoubleType(), True), StructField('close', DoubleType(), True), StructField('volume', IntegerType(), True), StructField('adjusted', DoubleType(), True), StructField('market_cap', StringType(), True), StructField('sector', StringType(), True), StructField('industry', StringType(), True), StructField('exchange', StringType(), True)])"
      ]
     },
     "execution_count": 10,
     "metadata": {},
     "output_type": "execute_result"
    }
   ],
   "source": [
    "# prints Schema of thte data\n",
    "data.schema"
   ]
  },
  {
   "cell_type": "code",
   "execution_count": 11,
   "metadata": {
    "colab": {
     "base_uri": "https://localhost:8080/",
     "height": 235
    },
    "id": "11e0YeMXmhUs",
    "outputId": "87939907-5797-4994-9b29-897f885ce848"
   },
   "outputs": [
    {
     "data": {
      "text/plain": [
       "[('_c0', 'int'),\n",
       " ('symbol', 'string'),\n",
       " ('data', 'date'),\n",
       " ('open', 'double'),\n",
       " ('high', 'double'),\n",
       " ('low', 'double'),\n",
       " ('close', 'double'),\n",
       " ('volume', 'int'),\n",
       " ('adjusted', 'double'),\n",
       " ('market_cap', 'string'),\n",
       " ('sector', 'string'),\n",
       " ('industry', 'string'),\n",
       " ('exchange', 'string')]"
      ]
     },
     "execution_count": 11,
     "metadata": {},
     "output_type": "execute_result"
    }
   ],
   "source": [
    "data.dtypes"
   ]
  },
  {
   "cell_type": "code",
   "execution_count": 12,
   "metadata": {
    "colab": {
     "base_uri": "https://localhost:8080/",
     "height": 87
    },
    "id": "94m1hXVPprqU",
    "outputId": "630d15a5-8b20-4b22-ca96-64542fdd0c99"
   },
   "outputs": [
    {
     "name": "stderr",
     "output_type": "stream",
     "text": [
      "23/11/09 11:04:55 WARN CSVHeaderChecker: CSV header does not conform to the schema.\n",
      " Header: , symbol, date, open, high, low, close, volume, adjusted, market.cap, sector, industry, exchange\n",
      " Schema: _c0, symbol, data, open, high, low, close, volume, adjusted, market.cap, sector, industry, exchange\n",
      "Expected: _c0 but found: \n",
      "CSV file: file:///Users/rociobenitezgarcia/Desktop/BigDataProcessing/data/stocks_price_final.csv\n"
     ]
    },
    {
     "data": {
      "text/plain": [
       "[Row(_c0=1, symbol='TXG', data=datetime.date(2019, 9, 12), open=54.0, high=58.0, low=51.0, close=52.75, volume=7326300, adjusted=52.75, market_cap='$9.31B', sector='Capital Goods', industry='Biotechnology: Laboratory Analytical Instruments', exchange='NASDAQ'),\n",
       " Row(_c0=2, symbol='TXG', data=datetime.date(2019, 9, 13), open=52.75, high=54.355, low=49.150002, close=52.27, volume=1025200, adjusted=52.27, market_cap='$9.31B', sector='Capital Goods', industry='Biotechnology: Laboratory Analytical Instruments', exchange='NASDAQ'),\n",
       " Row(_c0=3, symbol='TXG', data=datetime.date(2019, 9, 16), open=52.450001, high=56.0, low=52.009998, close=55.200001, volume=269900, adjusted=55.200001, market_cap='$9.31B', sector='Capital Goods', industry='Biotechnology: Laboratory Analytical Instruments', exchange='NASDAQ')]"
      ]
     },
     "execution_count": 12,
     "metadata": {},
     "output_type": "execute_result"
    }
   ],
   "source": [
    "data.head(3)"
   ]
  },
  {
   "cell_type": "code",
   "execution_count": 13,
   "metadata": {
    "colab": {
     "base_uri": "https://localhost:8080/",
     "height": 202
    },
    "id": "IYZ46WYNHc01",
    "outputId": "6d4fa243-b3b4-4b5d-9f45-8d30accf1d01"
   },
   "outputs": [
    {
     "name": "stdout",
     "output_type": "stream",
     "text": [
      "+---+------+----------+---------+---------+---------+---------+-------+---------+----------+-------------+--------------------+--------+\n",
      "|_c0|symbol|      data|     open|     high|      low|    close| volume| adjusted|market_cap|       sector|            industry|exchange|\n",
      "+---+------+----------+---------+---------+---------+---------+-------+---------+----------+-------------+--------------------+--------+\n",
      "|  1|   TXG|2019-09-12|     54.0|     58.0|     51.0|    52.75|7326300|    52.75|    $9.31B|Capital Goods|Biotechnology: La...|  NASDAQ|\n",
      "|  2|   TXG|2019-09-13|    52.75|   54.355|49.150002|    52.27|1025200|    52.27|    $9.31B|Capital Goods|Biotechnology: La...|  NASDAQ|\n",
      "|  3|   TXG|2019-09-16|52.450001|     56.0|52.009998|55.200001| 269900|55.200001|    $9.31B|Capital Goods|Biotechnology: La...|  NASDAQ|\n",
      "|  4|   TXG|2019-09-17|56.209999|60.900002|   55.423|56.779999| 602800|56.779999|    $9.31B|Capital Goods|Biotechnology: La...|  NASDAQ|\n",
      "|  5|   TXG|2019-09-18|56.849998|    62.27|55.650002|     62.0|1589600|     62.0|    $9.31B|Capital Goods|Biotechnology: La...|  NASDAQ|\n",
      "+---+------+----------+---------+---------+---------+---------+-------+---------+----------+-------------+--------------------+--------+\n",
      "only showing top 5 rows\n",
      "\n"
     ]
    },
    {
     "name": "stderr",
     "output_type": "stream",
     "text": [
      "23/11/09 11:05:04 WARN CSVHeaderChecker: CSV header does not conform to the schema.\n",
      " Header: , symbol, date, open, high, low, close, volume, adjusted, market.cap, sector, industry, exchange\n",
      " Schema: _c0, symbol, data, open, high, low, close, volume, adjusted, market.cap, sector, industry, exchange\n",
      "Expected: _c0 but found: \n",
      "CSV file: file:///Users/rociobenitezgarcia/Desktop/BigDataProcessing/data/stocks_price_final.csv\n"
     ]
    }
   ],
   "source": [
    "data.show(5)"
   ]
  },
  {
   "cell_type": "code",
   "execution_count": 14,
   "metadata": {
    "colab": {
     "base_uri": "https://localhost:8080/",
     "height": 54
    },
    "id": "W9AJoO7JqxWU",
    "outputId": "f1c1d7fe-aa74-4c5f-bdf9-72a04ae009b7"
   },
   "outputs": [
    {
     "name": "stderr",
     "output_type": "stream",
     "text": [
      "23/11/09 11:05:10 WARN CSVHeaderChecker: CSV header does not conform to the schema.\n",
      " Header: , symbol, date, open, high, low, close, volume, adjusted, market.cap, sector, industry, exchange\n",
      " Schema: _c0, symbol, data, open, high, low, close, volume, adjusted, market.cap, sector, industry, exchange\n",
      "Expected: _c0 but found: \n",
      "CSV file: file:///Users/rociobenitezgarcia/Desktop/BigDataProcessing/data/stocks_price_final.csv\n"
     ]
    },
    {
     "data": {
      "text/plain": [
       "Row(_c0=1, symbol='TXG', data=datetime.date(2019, 9, 12), open=54.0, high=58.0, low=51.0, close=52.75, volume=7326300, adjusted=52.75, market_cap='$9.31B', sector='Capital Goods', industry='Biotechnology: Laboratory Analytical Instruments', exchange='NASDAQ')"
      ]
     },
     "execution_count": 14,
     "metadata": {},
     "output_type": "execute_result"
    }
   ],
   "source": [
    "data.first()"
   ]
  },
  {
   "cell_type": "code",
   "execution_count": 15,
   "metadata": {
    "colab": {
     "base_uri": "https://localhost:8080/",
     "height": 205
    },
    "id": "ea-TUnvamQvg",
    "outputId": "106304e3-98fa-4b96-8abe-015c94f2d6c0"
   },
   "outputs": [
    {
     "name": "stderr",
     "output_type": "stream",
     "text": [
      "23/11/09 11:05:19 WARN SparkStringUtils: Truncated the string representation of a plan since it was too large. This behavior can be adjusted by setting 'spark.sql.debug.maxToStringFields'.\n",
      "23/11/09 11:05:19 WARN CSVHeaderChecker: CSV header does not conform to the schema.\n",
      " Header: , symbol, open, high, low, close, volume, adjusted, market.cap, sector, industry, exchange\n",
      " Schema: _c0, symbol, open, high, low, close, volume, adjusted, market.cap, sector, industry, exchange\n",
      "Expected: _c0 but found: \n",
      "CSV file: file:///Users/rociobenitezgarcia/Desktop/BigDataProcessing/data/stocks_price_final.csv\n",
      "[Stage 6:====================================>                      (5 + 3) / 8]\r"
     ]
    },
    {
     "name": "stdout",
     "output_type": "stream",
     "text": [
      "+-------+-----------------+-------+------------------+------------------+------------------+------------------+------------------+------------------+----------+----------------+--------------------+--------+\n",
      "|summary|              _c0| symbol|              open|              high|               low|             close|            volume|          adjusted|market_cap|          sector|            industry|exchange|\n",
      "+-------+-----------------+-------+------------------+------------------+------------------+------------------+------------------+------------------+----------+----------------+--------------------+--------+\n",
      "|  count|          1729034|1729034|           1726301|           1726301|           1726301|           1726301|           1725207|           1726301|   1729034|         1729034|             1729034| 1729034|\n",
      "|   mean|         864517.5|   NULL|15070.071703341047|15555.067268137087|14557.808227578987| 15032.71485433071|1397692.1627885813|14926.109688795501|      NULL|            NULL|                NULL|    NULL|\n",
      "| stddev|499129.2670065541|   NULL|1111821.8002863121|1148247.1953514938| 1072968.155843422|1109755.9294000654|5187522.9081691075|1101877.6328940047|      NULL|            NULL|                NULL|    NULL|\n",
      "|    min|                1|      A|             0.072|             0.078|             0.052|             0.071|                 0|         -1.230099|    $1.01B|Basic Industries|Accident &Health ...|  NASDAQ|\n",
      "|    max|          1729034|   ZYXI|      1.60168176E8|      1.61601456E8|      1.55151728E8|      1.58376592E8|         656504200|      1.57249392E8|       $9B|  Transportation|Wholesale Distrib...|    NYSE|\n",
      "+-------+-----------------+-------+------------------+------------------+------------------+------------------+------------------+------------------+----------+----------------+--------------------+--------+\n",
      "\n"
     ]
    },
    {
     "name": "stderr",
     "output_type": "stream",
     "text": [
      "\r",
      "                                                                                \r"
     ]
    }
   ],
   "source": [
    "data.describe().show()"
   ]
  },
  {
   "cell_type": "code",
   "execution_count": 16,
   "metadata": {
    "colab": {
     "base_uri": "https://localhost:8080/",
     "height": 235
    },
    "id": "WEfAsBkRtn9W",
    "outputId": "2cb67156-45c4-4a84-8cae-f46e064d1b77"
   },
   "outputs": [
    {
     "data": {
      "text/plain": [
       "['_c0',\n",
       " 'symbol',\n",
       " 'data',\n",
       " 'open',\n",
       " 'high',\n",
       " 'low',\n",
       " 'close',\n",
       " 'volume',\n",
       " 'adjusted',\n",
       " 'market_cap',\n",
       " 'sector',\n",
       " 'industry',\n",
       " 'exchange']"
      ]
     },
     "execution_count": 16,
     "metadata": {},
     "output_type": "execute_result"
    }
   ],
   "source": [
    "data.columns"
   ]
  },
  {
   "cell_type": "code",
   "execution_count": 17,
   "metadata": {
    "colab": {
     "base_uri": "https://localhost:8080/",
     "height": 34
    },
    "id": "IMZZZMo_tppK",
    "outputId": "ac3c1bfa-71a9-4e98-94ff-31666476b086"
   },
   "outputs": [
    {
     "name": "stderr",
     "output_type": "stream",
     "text": [
      "                                                                                \r"
     ]
    },
    {
     "data": {
      "text/plain": [
       "1729034"
      ]
     },
     "execution_count": 17,
     "metadata": {},
     "output_type": "execute_result"
    }
   ],
   "source": [
    "data.count()"
   ]
  },
  {
   "cell_type": "code",
   "execution_count": 18,
   "metadata": {
    "colab": {
     "base_uri": "https://localhost:8080/",
     "height": 34
    },
    "id": "JVkU70BotpxY",
    "outputId": "7e9ccad7-c103-450a-ddb3-ad6dda8bb0c0"
   },
   "outputs": [
    {
     "name": "stderr",
     "output_type": "stream",
     "text": [
      "23/11/09 11:05:45 WARN CSVHeaderChecker: CSV header does not conform to the schema.\n",
      " Header: , symbol, date, open, high, low, close, volume, adjusted, market.cap, sector, industry, exchange\n",
      " Schema: _c0, symbol, data, open, high, low, close, volume, adjusted, market.cap, sector, industry, exchange\n",
      "Expected: _c0 but found: \n",
      "CSV file: file:///Users/rociobenitezgarcia/Desktop/BigDataProcessing/data/stocks_price_final.csv\n",
      "                                                                                \r"
     ]
    },
    {
     "data": {
      "text/plain": [
       "1729034"
      ]
     },
     "execution_count": 18,
     "metadata": {},
     "output_type": "execute_result"
    }
   ],
   "source": [
    "data.distinct().count() "
   ]
  },
  {
   "cell_type": "code",
   "execution_count": 19,
   "metadata": {
    "colab": {
     "base_uri": "https://localhost:8080/",
     "height": 269
    },
    "id": "RBq6GXzSuZIe",
    "outputId": "c726aa15-3c22-465c-a43b-8d72c6daeec3"
   },
   "outputs": [
    {
     "name": "stdout",
     "output_type": "stream",
     "text": [
      "root\n",
      " |-- _c0: integer (nullable = true)\n",
      " |-- symbol: string (nullable = true)\n",
      " |-- data: date (nullable = true)\n",
      " |-- open: double (nullable = true)\n",
      " |-- high: double (nullable = true)\n",
      " |-- low: double (nullable = true)\n",
      " |-- close: double (nullable = true)\n",
      " |-- volume: integer (nullable = true)\n",
      " |-- adjusted: double (nullable = true)\n",
      " |-- market_cap: string (nullable = true)\n",
      " |-- sector: string (nullable = true)\n",
      " |-- industry: string (nullable = true)\n",
      " |-- exchange: string (nullable = true)\n",
      "\n"
     ]
    }
   ],
   "source": [
    "data.printSchema()"
   ]
  },
  {
   "cell_type": "markdown",
   "metadata": {
    "id": "Ww3XqquewkvB"
   },
   "source": [
    "## 3. Transformación de columnas\n",
    "* Añadir columnas\n",
    "* Modificar columnas existentes\n",
    "* Eliminar columnas"
   ]
  },
  {
   "cell_type": "code",
   "execution_count": 20,
   "metadata": {
    "colab": {
     "base_uri": "https://localhost:8080/",
     "height": 202
    },
    "id": "b7NNmtMYwka1",
    "outputId": "3ed5dac0-8ebe-4b95-88bb-114a1ce212be"
   },
   "outputs": [
    {
     "name": "stdout",
     "output_type": "stream",
     "text": [
      "+---+------+----------+---------+---------+---------+---------+-------+---------+----------+-------------+--------------------+--------+----------+\n",
      "|_c0|symbol|      data|     open|     high|      low|    close| volume| adjusted|market_cap|       sector|            industry|exchange|      date|\n",
      "+---+------+----------+---------+---------+---------+---------+-------+---------+----------+-------------+--------------------+--------+----------+\n",
      "|  1|   TXG|2019-09-12|     54.0|     58.0|     51.0|    52.75|7326300|    52.75|    $9.31B|Capital Goods|Biotechnology: La...|  NASDAQ|2019-09-12|\n",
      "|  2|   TXG|2019-09-13|    52.75|   54.355|49.150002|    52.27|1025200|    52.27|    $9.31B|Capital Goods|Biotechnology: La...|  NASDAQ|2019-09-13|\n",
      "|  3|   TXG|2019-09-16|52.450001|     56.0|52.009998|55.200001| 269900|55.200001|    $9.31B|Capital Goods|Biotechnology: La...|  NASDAQ|2019-09-16|\n",
      "|  4|   TXG|2019-09-17|56.209999|60.900002|   55.423|56.779999| 602800|56.779999|    $9.31B|Capital Goods|Biotechnology: La...|  NASDAQ|2019-09-17|\n",
      "|  5|   TXG|2019-09-18|56.849998|    62.27|55.650002|     62.0|1589600|     62.0|    $9.31B|Capital Goods|Biotechnology: La...|  NASDAQ|2019-09-18|\n",
      "+---+------+----------+---------+---------+---------+---------+-------+---------+----------+-------------+--------------------+--------+----------+\n",
      "only showing top 5 rows\n",
      "\n"
     ]
    },
    {
     "name": "stderr",
     "output_type": "stream",
     "text": [
      "23/11/09 11:05:59 WARN CSVHeaderChecker: CSV header does not conform to the schema.\n",
      " Header: , symbol, date, open, high, low, close, volume, adjusted, market.cap, sector, industry, exchange\n",
      " Schema: _c0, symbol, data, open, high, low, close, volume, adjusted, market.cap, sector, industry, exchange\n",
      "Expected: _c0 but found: \n",
      "CSV file: file:///Users/rociobenitezgarcia/Desktop/BigDataProcessing/data/stocks_price_final.csv\n"
     ]
    }
   ],
   "source": [
    "data = data.withColumn('date', data.data)\n",
    "\n",
    "data.show(5)"
   ]
  },
  {
   "cell_type": "code",
   "execution_count": 21,
   "metadata": {
    "colab": {
     "base_uri": "https://localhost:8080/",
     "height": 202
    },
    "id": "gIpRmPSNxILh",
    "outputId": "665da690-8d48-4609-894c-d2220bc50605"
   },
   "outputs": [
    {
     "name": "stdout",
     "output_type": "stream",
     "text": [
      "+---+------+----------+---------+---------+---------+---------+-------+---------+----------+-------------+--------------------+--------+------------+\n",
      "|_c0|symbol|      data|     open|     high|      low|    close| volume| adjusted|market_cap|       sector|            industry|exchange|data_changed|\n",
      "+---+------+----------+---------+---------+---------+---------+-------+---------+----------+-------------+--------------------+--------+------------+\n",
      "|  1|   TXG|2019-09-12|     54.0|     58.0|     51.0|    52.75|7326300|    52.75|    $9.31B|Capital Goods|Biotechnology: La...|  NASDAQ|  2019-09-12|\n",
      "|  2|   TXG|2019-09-13|    52.75|   54.355|49.150002|    52.27|1025200|    52.27|    $9.31B|Capital Goods|Biotechnology: La...|  NASDAQ|  2019-09-13|\n",
      "|  3|   TXG|2019-09-16|52.450001|     56.0|52.009998|55.200001| 269900|55.200001|    $9.31B|Capital Goods|Biotechnology: La...|  NASDAQ|  2019-09-16|\n",
      "|  4|   TXG|2019-09-17|56.209999|60.900002|   55.423|56.779999| 602800|56.779999|    $9.31B|Capital Goods|Biotechnology: La...|  NASDAQ|  2019-09-17|\n",
      "|  5|   TXG|2019-09-18|56.849998|    62.27|55.650002|     62.0|1589600|     62.0|    $9.31B|Capital Goods|Biotechnology: La...|  NASDAQ|  2019-09-18|\n",
      "+---+------+----------+---------+---------+---------+---------+-------+---------+----------+-------------+--------------------+--------+------------+\n",
      "only showing top 5 rows\n",
      "\n"
     ]
    },
    {
     "name": "stderr",
     "output_type": "stream",
     "text": [
      "23/11/09 11:06:02 WARN CSVHeaderChecker: CSV header does not conform to the schema.\n",
      " Header: , symbol, date, open, high, low, close, volume, adjusted, market.cap, sector, industry, exchange\n",
      " Schema: _c0, symbol, data, open, high, low, close, volume, adjusted, market.cap, sector, industry, exchange\n",
      "Expected: _c0 but found: \n",
      "CSV file: file:///Users/rociobenitezgarcia/Desktop/BigDataProcessing/data/stocks_price_final.csv\n"
     ]
    }
   ],
   "source": [
    "data = data.withColumnRenamed('date', 'data_changed')\n",
    "\n",
    "data.show(5)"
   ]
  },
  {
   "cell_type": "code",
   "execution_count": 22,
   "metadata": {
    "colab": {
     "base_uri": "https://localhost:8080/",
     "height": 202
    },
    "id": "ZfMRq0AwxH3R",
    "outputId": "d70a40df-dc81-4568-ed80-e82511ec9423"
   },
   "outputs": [
    {
     "name": "stdout",
     "output_type": "stream",
     "text": [
      "+---+------+----------+---------+---------+---------+---------+-------+---------+----------+-------------+--------------------+--------+\n",
      "|_c0|symbol|      data|     open|     high|      low|    close| volume| adjusted|market_cap|       sector|            industry|exchange|\n",
      "+---+------+----------+---------+---------+---------+---------+-------+---------+----------+-------------+--------------------+--------+\n",
      "|  1|   TXG|2019-09-12|     54.0|     58.0|     51.0|    52.75|7326300|    52.75|    $9.31B|Capital Goods|Biotechnology: La...|  NASDAQ|\n",
      "|  2|   TXG|2019-09-13|    52.75|   54.355|49.150002|    52.27|1025200|    52.27|    $9.31B|Capital Goods|Biotechnology: La...|  NASDAQ|\n",
      "|  3|   TXG|2019-09-16|52.450001|     56.0|52.009998|55.200001| 269900|55.200001|    $9.31B|Capital Goods|Biotechnology: La...|  NASDAQ|\n",
      "|  4|   TXG|2019-09-17|56.209999|60.900002|   55.423|56.779999| 602800|56.779999|    $9.31B|Capital Goods|Biotechnology: La...|  NASDAQ|\n",
      "|  5|   TXG|2019-09-18|56.849998|    62.27|55.650002|     62.0|1589600|     62.0|    $9.31B|Capital Goods|Biotechnology: La...|  NASDAQ|\n",
      "+---+------+----------+---------+---------+---------+---------+-------+---------+----------+-------------+--------------------+--------+\n",
      "only showing top 5 rows\n",
      "\n"
     ]
    },
    {
     "name": "stderr",
     "output_type": "stream",
     "text": [
      "23/11/09 11:06:06 WARN CSVHeaderChecker: CSV header does not conform to the schema.\n",
      " Header: , symbol, date, open, high, low, close, volume, adjusted, market.cap, sector, industry, exchange\n",
      " Schema: _c0, symbol, data, open, high, low, close, volume, adjusted, market.cap, sector, industry, exchange\n",
      "Expected: _c0 but found: \n",
      "CSV file: file:///Users/rociobenitezgarcia/Desktop/BigDataProcessing/data/stocks_price_final.csv\n"
     ]
    }
   ],
   "source": [
    "data = data.drop('data_changed')\n",
    "\n",
    "data.show(5)"
   ]
  },
  {
   "cell_type": "markdown",
   "metadata": {},
   "source": [
    "## 4. Imputando datos faltantes"
   ]
  },
  {
   "cell_type": "code",
   "execution_count": 23,
   "metadata": {},
   "outputs": [
    {
     "name": "stderr",
     "output_type": "stream",
     "text": [
      "                                                                                \r"
     ]
    },
    {
     "data": {
      "text/plain": [
       "DataFrame[_c0: int, symbol: string, data: date, open: double, high: double, low: double, close: double, volume: int, adjusted: double, market_cap: string, sector: string, industry: string, exchange: string]"
      ]
     },
     "execution_count": 23,
     "metadata": {},
     "output_type": "execute_result"
    }
   ],
   "source": [
    "# Remove Rows with Missing Values\n",
    "data.na.drop()\n",
    "\n",
    "# Replacing Missing Values with Mean\n",
    "data.na.fill(data.select(f.mean(data['open'])).collect()[0][0])"
   ]
  },
  {
   "cell_type": "markdown",
   "metadata": {},
   "source": [
    "## 5. Selección de datos con PySpark SQL\n",
    "* Select\n",
    "* Filter\n",
    "* Between\n",
    "* When\n",
    "* Like\n",
    "* GroupBy\n",
    "* Aggregations"
   ]
  },
  {
   "cell_type": "markdown",
   "metadata": {},
   "source": [
    "### Select"
   ]
  },
  {
   "cell_type": "code",
   "execution_count": 24,
   "metadata": {
    "colab": {
     "base_uri": "https://localhost:8080/",
     "height": 185
    },
    "id": "tEGNIZJUvsbQ",
    "outputId": "26c70865-f0bb-4725-e4a8-9227917d8917",
    "scrolled": true
   },
   "outputs": [
    {
     "name": "stderr",
     "output_type": "stream",
     "text": [
      "[Stage 24:=======>                                                  (1 + 7) / 8]\r"
     ]
    },
    {
     "name": "stdout",
     "output_type": "stream",
     "text": [
      "+-------+------------------+------------------+------------------+------------------+------------------+------------------+\n",
      "|summary|              open|              high|               low|             close|            volume|          adjusted|\n",
      "+-------+------------------+------------------+------------------+------------------+------------------+------------------+\n",
      "|  count|           1726301|           1726301|           1726301|           1726301|           1725207|           1726301|\n",
      "|   mean|15070.071703341047|15555.067268137087|14557.808227578987| 15032.71485433071|1397692.1627885813|14926.109688795501|\n",
      "| stddev|1111821.8002863121|1148247.1953514938| 1072968.155843422|1109755.9294000654|5187522.9081691075|1101877.6328940047|\n",
      "|    min|             0.072|             0.078|             0.052|             0.071|                 0|         -1.230099|\n",
      "|    max|      1.60168176E8|      1.61601456E8|      1.55151728E8|      1.58376592E8|         656504200|      1.57249392E8|\n",
      "+-------+------------------+------------------+------------------+------------------+------------------+------------------+\n",
      "\n"
     ]
    },
    {
     "name": "stderr",
     "output_type": "stream",
     "text": [
      "\r",
      "                                                                                \r"
     ]
    }
   ],
   "source": [
    "data.select(['open', 'high', 'low', 'close', 'volume', 'adjusted']).describe().show()"
   ]
  },
  {
   "cell_type": "markdown",
   "metadata": {},
   "source": [
    "### Filter"
   ]
  },
  {
   "cell_type": "code",
   "execution_count": 25,
   "metadata": {
    "colab": {
     "base_uri": "https://localhost:8080/",
     "height": 202
    },
    "id": "IYWm7iDy8dHC",
    "outputId": "df39d2c1-b00c-4b47-af0a-4afb44b1382d",
    "scrolled": true
   },
   "outputs": [
    {
     "name": "stdout",
     "output_type": "stream",
     "text": [
      "+---+------+----------+---------+---------+---------+---------+------+---------+----------+-------------+--------------------+--------+\n",
      "|_c0|symbol|      data|     open|     high|      low|    close|volume| adjusted|market_cap|       sector|            industry|exchange|\n",
      "+---+------+----------+---------+---------+---------+---------+------+---------+----------+-------------+--------------------+--------+\n",
      "| 78|   TXG|2020-01-02|76.910004|77.989998|71.480003|72.830002|220200|72.830002|    $9.31B|Capital Goods|Biotechnology: La...|  NASDAQ|\n",
      "| 79|   TXG|2020-01-03|71.519997|76.188004|70.580002|75.559998|288300|75.559998|    $9.31B|Capital Goods|Biotechnology: La...|  NASDAQ|\n",
      "| 80|   TXG|2020-01-06|75.269997|77.349998|73.559998|75.550003|220600|75.550003|    $9.31B|Capital Goods|Biotechnology: La...|  NASDAQ|\n",
      "| 81|   TXG|2020-01-07|     76.0|77.279999|    75.32|75.980003|182400|75.980003|    $9.31B|Capital Goods|Biotechnology: La...|  NASDAQ|\n",
      "| 82|   TXG|2020-01-08|76.089996|76.949997|72.739998|74.839996|172100|74.839996|    $9.31B|Capital Goods|Biotechnology: La...|  NASDAQ|\n",
      "+---+------+----------+---------+---------+---------+---------+------+---------+----------+-------------+--------------------+--------+\n",
      "only showing top 5 rows\n",
      "\n"
     ]
    },
    {
     "name": "stderr",
     "output_type": "stream",
     "text": [
      "23/11/09 11:06:28 WARN CSVHeaderChecker: CSV header does not conform to the schema.\n",
      " Header: , symbol, date, open, high, low, close, volume, adjusted, market.cap, sector, industry, exchange\n",
      " Schema: _c0, symbol, data, open, high, low, close, volume, adjusted, market.cap, sector, industry, exchange\n",
      "Expected: _c0 but found: \n",
      "CSV file: file:///Users/rociobenitezgarcia/Desktop/BigDataProcessing/data/stocks_price_final.csv\n"
     ]
    }
   ],
   "source": [
    "from pyspark.sql.functions import col, lit\n",
    "\n",
    "data.filter( (col('data') >= lit('2020-01-01')) \n",
    "            & (col('data') <= lit('2020-01-31')) ).show(5)"
   ]
  },
  {
   "cell_type": "markdown",
   "metadata": {},
   "source": [
    "### Between"
   ]
  },
  {
   "cell_type": "code",
   "execution_count": 26,
   "metadata": {
    "colab": {
     "base_uri": "https://localhost:8080/",
     "height": 202
    },
    "id": "EsZfCrIZ6qkd",
    "outputId": "f1a63443-ed6c-432c-b220-81283a574ee5",
    "scrolled": false
   },
   "outputs": [
    {
     "name": "stdout",
     "output_type": "stream",
     "text": [
      "+----+------+----------+----------+----------+----------+----------+------+----------+----------+-------------+--------------------+--------+\n",
      "| _c0|symbol|      data|      open|      high|       low|     close|volume|  adjusted|market_cap|       sector|            industry|exchange|\n",
      "+----+------+----------+----------+----------+----------+----------+------+----------+----------+-------------+--------------------+--------+\n",
      "|  93|   TXG|2020-01-24| 95.459999|     101.0| 94.157997|100.790001|328100|100.790001|    $9.31B|Capital Goods|Biotechnology: La...|  NASDAQ|\n",
      "|  94|   TXG|2020-01-27| 99.760002|104.892998| 97.019997|103.209999|334900|103.209999|    $9.31B|Capital Goods|Biotechnology: La...|  NASDAQ|\n",
      "|  95|   TXG|2020-01-28|104.620003|108.269997|103.297997|106.620003|245400|106.620003|    $9.31B|Capital Goods|Biotechnology: La...|  NASDAQ|\n",
      "|6893|  ABMD|2019-01-02|315.940002|320.709991|307.029999|309.959991|590000|309.959991|   $13.39B|  Health Care|Medical/Dental In...|  NASDAQ|\n",
      "|6894|  ABMD|2019-01-03|    307.25| 311.73999|293.660004|302.290009|665300|302.290009|   $13.39B|  Health Care|Medical/Dental In...|  NASDAQ|\n",
      "+----+------+----------+----------+----------+----------+----------+------+----------+----------+-------------+--------------------+--------+\n",
      "only showing top 5 rows\n",
      "\n"
     ]
    },
    {
     "name": "stderr",
     "output_type": "stream",
     "text": [
      "23/11/09 11:06:45 WARN CSVHeaderChecker: CSV header does not conform to the schema.\n",
      " Header: , symbol, date, open, high, low, close, volume, adjusted, market.cap, sector, industry, exchange\n",
      " Schema: _c0, symbol, data, open, high, low, close, volume, adjusted, market.cap, sector, industry, exchange\n",
      "Expected: _c0 but found: \n",
      "CSV file: file:///Users/rociobenitezgarcia/Desktop/BigDataProcessing/data/stocks_price_final.csv\n"
     ]
    }
   ],
   "source": [
    "data.filter(data.adjusted.between(100.0, 500.0)).show(5)"
   ]
  },
  {
   "cell_type": "markdown",
   "metadata": {},
   "source": [
    "### When"
   ]
  },
  {
   "cell_type": "code",
   "execution_count": 27,
   "metadata": {
    "colab": {
     "base_uri": "https://localhost:8080/",
     "height": 202
    },
    "id": "i5LKNfTGAEl0",
    "outputId": "1c9066c5-e8ab-4447-e236-0582bcad6eb1",
    "scrolled": true
   },
   "outputs": [
    {
     "name": "stdout",
     "output_type": "stream",
     "text": [
      "+---------+---------+-----------------------------------------------+\n",
      "|     open|    close|CASE WHEN (adjusted >= 200.0) THEN 1 ELSE 0 END|\n",
      "+---------+---------+-----------------------------------------------+\n",
      "|     54.0|    52.75|                                              0|\n",
      "|    52.75|    52.27|                                              0|\n",
      "|52.450001|55.200001|                                              0|\n",
      "|56.209999|56.779999|                                              0|\n",
      "|56.849998|     62.0|                                              0|\n",
      "+---------+---------+-----------------------------------------------+\n",
      "only showing top 5 rows\n",
      "\n"
     ]
    }
   ],
   "source": [
    "data.select('open', 'close', \n",
    "            f.when(data.adjusted >= 200.0, 1).otherwise(0)).show(5) #de lo contrario 0"
   ]
  },
  {
   "cell_type": "markdown",
   "metadata": {},
   "source": [
    "### GroupBy"
   ]
  },
  {
   "cell_type": "code",
   "execution_count": 28,
   "metadata": {
    "colab": {
     "base_uri": "https://localhost:8080/",
     "height": 454
    },
    "id": "3MBAUrelDvBO",
    "outputId": "1e0e48c0-fdb1-4f57-de76-8db6350a17eb",
    "scrolled": false
   },
   "outputs": [
    {
     "name": "stderr",
     "output_type": "stream",
     "text": [
      "[Stage 30:=======>                                                  (1 + 7) / 8]\r"
     ]
    },
    {
     "name": "stdout",
     "output_type": "stream",
     "text": [
      "+--------------------+------------------+------------------+------------------+\n",
      "|            industry|         avg(open)|        avg(close)|     avg(adjusted)|\n",
      "+--------------------+------------------+------------------+------------------+\n",
      "|Finance/Investors...| 5.134401785714288| 5.136630739795919| 4.991354066964286|\n",
      "|       Miscellaneous| 16.38588266938775|16.359879090306126|16.148959322959186|\n",
      "|Investment Banker...|58.950580945750225| 58.98308596082619| 58.15783725890314|\n",
      "|   Food Distributors| 43.27450856935453| 43.27317810574849| 42.91047608357857|\n",
      "|        Broadcasting| 24.91678746482517| 24.91738845539515|24.699102029625312|\n",
      "|Agricultural Chem...|22.046413928996596| 22.04205107631803|21.635093418154764|\n",
      "|Biotechnology: Bi...|24.808083192324226| 24.80358714993552| 24.74507997827328|\n",
      "|Other Specialty S...| 84.80718810562868| 84.80276550929817| 84.55525036482338|\n",
      "|Biotechnology: El...| 33.36891734535046| 33.33611913546898| 33.21022605613576|\n",
      "|Other Consumer Se...| 43.67010744224602|43.658688711464805| 43.43498980879021|\n",
      "|Electric Utilitie...| 41.35569183903099|41.371055593573274|40.392457352420095|\n",
      "|     Specialty Foods|  65.2235135769231|  65.2231758537024| 64.18661875197694|\n",
      "|        Water Supply| 40.58048308203543| 40.58487374462942| 40.17332791487647|\n",
      "|               Banks|21.441229607680015| 21.44016833103999|21.029210073440005|\n",
      "|Farming/Seeds/Mil...|27.740143444117308|27.742979490990447|  27.0225392389589|\n",
      "|Medical/Nursing S...| 71.03728952880785| 71.09947781274899| 70.77964412074782|\n",
      "|Marine Transporta...|20.908210279072367|  20.8850655963132| 20.41915865622322|\n",
      "|Biotechnology: La...|102.15234116744068| 102.2851978056985|102.24022548951929|\n",
      "| Television Services|119.26427651044699|119.46530199696299| 119.1045767071185|\n",
      "|Automotive Afterm...| 55.44373699841819| 55.47760246852261|55.106156611304414|\n",
      "+--------------------+------------------+------------------+------------------+\n",
      "only showing top 20 rows\n",
      "\n"
     ]
    },
    {
     "name": "stderr",
     "output_type": "stream",
     "text": [
      "\r",
      "                                                                                \r"
     ]
    }
   ],
   "source": [
    "data.select(['industry', 'open', 'close', 'adjusted']).groupBy('industry').mean().show()"
   ]
  },
  {
   "cell_type": "markdown",
   "metadata": {},
   "source": [
    "### Agregation"
   ]
  },
  {
   "cell_type": "code",
   "execution_count": 29,
   "metadata": {
    "colab": {
     "base_uri": "https://localhost:8080/",
     "height": 322
    },
    "id": "hYcg9S7eH1DG",
    "outputId": "02a8da30-bb32-45fa-d952-8956670168c8"
   },
   "outputs": [
    {
     "name": "stderr",
     "output_type": "stream",
     "text": [
      "23/11/09 11:06:57 WARN CSVHeaderChecker: CSV header does not conform to the schema.\n",
      " Header: date, open, close, adjusted, sector\n",
      " Schema: data, open, close, adjusted, sector\n",
      "Expected: data but found: date\n",
      "CSV file: file:///Users/rociobenitezgarcia/Desktop/BigDataProcessing/data/stocks_price_final.csv\n",
      "[Stage 33:>                                                         (0 + 8) / 8]\r"
     ]
    },
    {
     "name": "stdout",
     "output_type": "stream",
     "text": [
      "+---------------------+----------+----------+---------------+---------------+------------------+---------------+---------------+------------------+------------------------+------------------------+------------------------+\n",
      "|sector               |From      |To        |Minimum Opening|Maximum Opening|Average Opening   |Minimum Closing|Maximum Closing|Average Closing   |Minimum Adjusted Closing|Maximum Adjusted Closing|Average Adjusted Closing|\n",
      "+---------------------+----------+----------+---------------+---------------+------------------+---------------+---------------+------------------+------------------------+------------------------+------------------------+\n",
      "|Miscellaneous        |2019-01-02|2020-07-22|0.147          |1059.98999     |52.038394969006596|0.1361         |1035.829956    |52.063628549509616|0.1361                  |1035.829956             |51.80973033632299       |\n",
      "|Health Care          |2019-01-02|2020-07-22|0.072          |186000.0       |119.96763306523255|0.071          |187000.0       |119.07806125419022|0.071                   |187000.0                |118.97394778016215      |\n",
      "|Public Utilities     |2019-01-02|2020-07-22|0.331          |280.0          |35.580777352394385|0.325          |282.220001     |35.58528245861939 |0.325                   |280.67395               |34.73015568500471       |\n",
      "|Energy               |2019-01-02|2020-07-22|0.1            |905.0          |24.456589891261128|0.09           |901.039978     |24.427350302157947|0.09                    |879.057007              |23.684714263000938      |\n",
      "|Consumer Non-Durables|2019-01-02|2020-07-22|0.12           |655.0          |43.328602746126776|0.12           |664.130005     |43.33038601364589 |0.12                    |664.130005              |42.81762456569028       |\n",
      "|Finance              |2019-01-02|2020-07-22|0.25           |1336.930054    |37.7746670681904  |0.27           |1341.079956    |37.779002314288654|0.27                    |1341.079956             |37.10028522718042       |\n",
      "|Basic Industries     |2019-01-02|2020-07-22|0.23           |1.60168176E8   |266410.35470107093|0.23           |1.58376592E8   |265750.3613671152 |0.23                    |1.57249392E8            |263865.51070311887      |\n",
      "|Capital Goods        |2019-01-02|2020-07-22|0.13           |4025.0         |60.48854363282763 |0.12           |4037.77002     |60.51655483568791 |-1.230099               |4037.77002              |59.97512253879293       |\n",
      "|Technology           |2019-01-02|2020-07-22|0.14           |2704.0         |49.516045118394715|0.13           |2736.0         |49.53479888748215 |0.13                    |2736.0                  |49.25234033754503       |\n",
      "|Consumer Services    |2019-01-02|2020-07-22|0.1            |15437.5        |55.07886734259144 |0.134          |19843.75       |55.05524753647347 |0.134                   |19843.75                |54.361878278461255      |\n",
      "|Consumer Durables    |2019-01-02|2020-07-22|0.32           |111718.75      |391.0315399849805 |0.31           |118750.0       |390.10415506571815|0.31                    |118750.0                |389.64176394936146      |\n",
      "|Transportation       |2019-01-02|2020-07-22|0.08           |274.410004     |37.30503242702789 |0.08           |274.040009     |37.29532668104832 |0.08                    |274.040009              |36.802319227912406      |\n",
      "+---------------------+----------+----------+---------------+---------------+------------------+---------------+---------------+------------------+------------------------+------------------------+------------------------+\n",
      "\n"
     ]
    },
    {
     "name": "stderr",
     "output_type": "stream",
     "text": [
      "\r",
      "[Stage 33:=======>                                                  (1 + 7) / 8]\r",
      "\r",
      "                                                                                \r"
     ]
    }
   ],
   "source": [
    "from pyspark.sql.functions import col, min, max, avg, lit\n",
    "\n",
    "data.groupBy(\"sector\") \\\n",
    "    .agg(min(\"data\").alias(\"From\"), \n",
    "         max(\"data\").alias(\"To\"), \n",
    "         \n",
    "         min(\"open\").alias(\"Minimum Opening\"),\n",
    "         max(\"open\").alias(\"Maximum Opening\"), \n",
    "         avg(\"open\").alias(\"Average Opening\"), \n",
    "\n",
    "         min(\"close\").alias(\"Minimum Closing\"), \n",
    "         max(\"close\").alias(\"Maximum Closing\"), \n",
    "         avg(\"close\").alias(\"Average Closing\"), \n",
    "\n",
    "         min(\"adjusted\").alias(\"Minimum Adjusted Closing\"), \n",
    "         max(\"adjusted\").alias(\"Maximum Adjusted Closing\"), \n",
    "         avg(\"adjusted\").alias(\"Average Adjusted Closing\"), \n",
    "\n",
    "      ).show(truncate=False)"
   ]
  },
  {
   "cell_type": "markdown",
   "metadata": {
    "id": "wnEqe6C5ivLN"
   },
   "source": [
    "Obtenga los datos mínimos, máximos y promedio de los sectores de **enero de 2019** a **enero de 2020**"
   ]
  },
  {
   "cell_type": "code",
   "execution_count": 30,
   "metadata": {
    "colab": {
     "base_uri": "https://localhost:8080/",
     "height": 322
    },
    "id": "texK2jlleAgi",
    "outputId": "794cc28a-d427-45a4-f1b7-2790cbcf86d2",
    "scrolled": true
   },
   "outputs": [
    {
     "name": "stderr",
     "output_type": "stream",
     "text": [
      "23/11/09 11:07:04 WARN CSVHeaderChecker: CSV header does not conform to the schema.\n",
      " Header: date, open, close, adjusted, sector\n",
      " Schema: data, open, close, adjusted, sector\n",
      "Expected: data but found: date\n",
      "CSV file: file:///Users/rociobenitezgarcia/Desktop/BigDataProcessing/data/stocks_price_final.csv\n",
      "[Stage 36:>                                                         (0 + 8) / 8]\r"
     ]
    },
    {
     "name": "stdout",
     "output_type": "stream",
     "text": [
      "+---------------------+----------+----------+---------------+---------------+------------------+---------------+---------------+------------------+------------------------+------------------------+------------------------+\n",
      "|sector               |From      |To        |Minimum Opening|Maximum Opening|Average Opening   |Minimum Closing|Maximum Closing|Average Closing   |Minimum Adjusted Closing|Maximum Adjusted Closing|Average Adjusted Closing|\n",
      "+---------------------+----------+----------+---------------+---------------+------------------+---------------+---------------+------------------+------------------------+------------------------+------------------------+\n",
      "|Miscellaneous        |2019-01-02|2020-01-31|0.16           |690.0          |51.51619596530091 |0.16           |691.099976     |51.54953412269035 |0.16                    |691.099976              |51.210507338518944      |\n",
      "|Health Care          |2019-01-02|2020-01-31|0.072          |186000.0       |146.7756197567625 |0.071          |187000.0       |145.63974140826113|0.071                   |187000.0                |145.50092663131542      |\n",
      "|Public Utilities     |2019-01-02|2020-01-31|0.62           |269.459991     |36.6710418271084  |0.66           |269.929993     |36.68433434934582 |0.66                    |267.056549              |35.55794068386672       |\n",
      "|Energy               |2019-01-02|2020-01-31|0.13           |905.0          |27.695591382025942|0.13           |901.039978     |27.676750848215494|0.13                    |879.057007              |26.67510896754191       |\n",
      "|Consumer Non-Durables|2019-01-02|2020-01-31|0.22           |441.190002     |44.687031798374335|0.22           |441.26001      |44.69028854823987 |0.22                    |441.26001               |44.00786604732128       |\n",
      "|Finance              |2019-01-02|2020-01-31|0.284          |1199.030029    |40.30497973017921 |0.27           |1196.22998     |40.33061743018029 |0.27                    |1196.22998              |39.414088188549265      |\n",
      "|Basic Industries     |2019-01-02|2020-01-31|0.277          |1.60168176E8   |334814.23540859646|0.272          |1.58376592E8   |334289.2550689392 |0.272                   |1.57249392E8            |331916.39261538134      |\n",
      "|Capital Goods        |2019-01-02|2020-01-31|0.21           |4025.0         |61.47928347274464 |0.22           |4030.0         |61.526343209089816|-1.022682               |4030.0                  |60.79992564173734       |\n",
      "|Technology           |2019-01-02|2020-01-31|0.14           |2704.0         |49.63989857764492 |0.13           |2736.0         |49.64697306066013 |0.13                    |2736.0                  |49.271465831557926      |\n",
      "|Consumer Services    |2019-01-02|2020-01-31|0.21           |15437.5        |58.505705124586655|0.201          |19843.75       |58.49787065225789 |0.201                   |19843.75                |57.569266263880905      |\n",
      "|Consumer Durables    |2019-01-02|2020-01-31|0.32           |106250.0       |439.96307151506295|0.31           |103906.25      |436.78385305589023|0.31                    |103906.25               |436.1655366019182       |\n",
      "|Transportation       |2019-01-02|2020-01-31|0.61           |268.190002     |39.51409811152554 |0.63           |269.630005     |39.5282976100228  |0.63                    |267.881714              |38.86532091563168       |\n",
      "+---------------------+----------+----------+---------------+---------------+------------------+---------------+---------------+------------------+------------------------+------------------------+------------------------+\n",
      "\n"
     ]
    },
    {
     "name": "stderr",
     "output_type": "stream",
     "text": [
      "\r",
      "[Stage 36:==============>                                           (2 + 6) / 8]\r",
      "\r",
      "                                                                                \r"
     ]
    }
   ],
   "source": [
    "data.filter( (col('data') >= lit('2019-01-02')) & (col('data') <= lit('2020-01-31')) )\\\n",
    "    .groupBy(\"sector\") \\\n",
    "    .agg(min(\"data\").alias(\"From\"), \n",
    "         max(\"data\").alias(\"To\"), \n",
    "         \n",
    "         min(\"open\").alias(\"Minimum Opening\"),\n",
    "         max(\"open\").alias(\"Maximum Opening\"), \n",
    "         avg(\"open\").alias(\"Average Opening\"), \n",
    "\n",
    "         min(\"close\").alias(\"Minimum Closing\"), \n",
    "         max(\"close\").alias(\"Maximum Closing\"), \n",
    "         avg(\"close\").alias(\"Average Closing\"), \n",
    "\n",
    "         min(\"adjusted\").alias(\"Minimum Adjusted Closing\"), \n",
    "         max(\"adjusted\").alias(\"Maximum Adjusted Closing\"), \n",
    "         avg(\"adjusted\").alias(\"Average Adjusted Closing\"), \n",
    "\n",
    "      ).show(truncate=False)"
   ]
  }
 ],
 "metadata": {
  "colab": {
   "authorship_tag": "ABX9TyPRiFrIk3poFvvDKdeo/sex",
   "collapsed_sections": [],
   "include_colab_link": true,
   "name": "Beginners Guide to PySpark.ipynb",
   "provenance": []
  },
  "kernelspec": {
   "display_name": "Python 3 (ipykernel)",
   "language": "python",
   "name": "python3"
  },
  "language_info": {
   "codemirror_mode": {
    "name": "ipython",
    "version": 3
   },
   "file_extension": ".py",
   "mimetype": "text/x-python",
   "name": "python",
   "nbconvert_exporter": "python",
   "pygments_lexer": "ipython3",
   "version": "3.11.5"
  }
 },
 "nbformat": 4,
 "nbformat_minor": 1
}
