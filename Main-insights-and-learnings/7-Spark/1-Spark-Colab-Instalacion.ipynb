{
  "nbformat": 4,
  "nbformat_minor": 0,
  "metadata": {
    "colab": {
      "provenance": []
    },
    "kernelspec": {
      "name": "python3",
      "display_name": "Python 3"
    },
    "language_info": {
      "name": "python"
    }
  },
  "cells": [
    {
      "cell_type": "code",
      "execution_count": 1,
      "metadata": {
        "id": "P4UAApfzaUnC"
      },
      "outputs": [],
      "source": [
        "# Instalar SDK Java 8\n",
        "\n",
        "!apt-get install openjdk-8-jdk-headless -qq > /dev/null"
      ]
    },
    {
      "cell_type": "code",
      "source": [
        "# Descargar Spark 3.2.2\n",
        "\n",
        "!wget -q https://archive.apache.org/dist/spark/spark-3.2.3/spark-3.2.3-bin-hadoop3.2.tgz"
      ],
      "metadata": {
        "id": "OKt_gE3paZh3"
      },
      "execution_count": 2,
      "outputs": []
    },
    {
      "cell_type": "code",
      "source": [
        "# Descomprimir el archivo descargado de Spark\n",
        "\n",
        "!tar xf spark-3.2.3-bin-hadoop3.2.tgz"
      ],
      "metadata": {
        "id": "_5KSZI5magUi"
      },
      "execution_count": 3,
      "outputs": []
    },
    {
      "cell_type": "code",
      "source": [
        "# Establecer las variables de entorno\n",
        "\n",
        "import os\n",
        "\n",
        "os.environ[\"JAVA_HOME\"] = \"/usr/lib/jvm/java-8-openjdk-amd64\"\n",
        "os.environ[\"SPARK_HOME\"] = \"/content/spark-3.2.3-bin-hadoop3.2\""
      ],
      "metadata": {
        "id": "XGXwy9XTajNa"
      },
      "execution_count": 4,
      "outputs": []
    },
    {
      "cell_type": "code",
      "source": [
        "# Instalar la librería findspark\n",
        "\n",
        "!pip install -q findspark"
      ],
      "metadata": {
        "id": "oHVqsUzparc5"
      },
      "execution_count": 5,
      "outputs": []
    },
    {
      "cell_type": "code",
      "source": [
        "# Instalar pyspark\n",
        "\n",
        "!pip install -q pyspark"
      ],
      "metadata": {
        "colab": {
          "base_uri": "https://localhost:8080/"
        },
        "id": "7e5GWqunatfw",
        "outputId": "ed7e98de-f989-4e12-a684-95e23e3b5e09"
      },
      "execution_count": 6,
      "outputs": [
        {
          "output_type": "stream",
          "name": "stdout",
          "text": [
            "\u001b[2K     \u001b[90m━━━━━━━━━━━━━━━━━━━━━━━━━━━━━━━━━━━━━━━\u001b[0m \u001b[32m310.8/310.8 MB\u001b[0m \u001b[31m4.2 MB/s\u001b[0m eta \u001b[36m0:00:00\u001b[0m\n",
            "\u001b[?25h  Preparing metadata (setup.py) ... \u001b[?25l\u001b[?25hdone\n",
            "  Building wheel for pyspark (setup.py) ... \u001b[?25l\u001b[?25hdone\n"
          ]
        }
      ]
    },
    {
      "cell_type": "code",
      "source": [
        "### verificar la instalación ###\n",
        "import findspark\n",
        "findspark.init()"
      ],
      "metadata": {
        "id": "FsRNJRojav6N"
      },
      "execution_count": 7,
      "outputs": []
    },
    {
      "cell_type": "code",
      "source": [
        "from pyspark.sql import SparkSession\n",
        "\n",
        "spark = SparkSession.builder.master(\"local[*]\").getOrCreate()\n",
        "\n",
        "# Probando la sesión de Spark\n",
        "df = spark.createDataFrame([{\"Hola\": \"Mundo\"} for x in range(10)])\n",
        "\n",
        "df.show(10, False)"
      ],
      "metadata": {
        "colab": {
          "base_uri": "https://localhost:8080/"
        },
        "id": "K7DrMe0NazhS",
        "outputId": "977daf7a-90e2-45d8-f871-ea86dc6c934d"
      },
      "execution_count": 8,
      "outputs": [
        {
          "output_type": "stream",
          "name": "stdout",
          "text": [
            "+-----+\n",
            "|Hola |\n",
            "+-----+\n",
            "|Mundo|\n",
            "|Mundo|\n",
            "|Mundo|\n",
            "|Mundo|\n",
            "|Mundo|\n",
            "|Mundo|\n",
            "|Mundo|\n",
            "|Mundo|\n",
            "|Mundo|\n",
            "|Mundo|\n",
            "+-----+\n",
            "\n"
          ]
        }
      ]
    }
  ]
}