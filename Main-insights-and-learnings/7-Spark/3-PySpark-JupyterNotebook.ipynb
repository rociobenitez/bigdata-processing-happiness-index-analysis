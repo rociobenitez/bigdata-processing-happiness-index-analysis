{
 "cells": [
  {
   "cell_type": "code",
   "execution_count": 2,
   "id": "aad4f648",
   "metadata": {},
   "outputs": [
    {
     "data": {
      "text/plain": [
       "import org.apache.spark.sql.SparkSession\n",
       "spark: org.apache.spark.sql.SparkSession = org.apache.spark.sql.SparkSession@23aa8019\n"
      ]
     },
     "execution_count": 2,
     "metadata": {},
     "output_type": "execute_result"
    }
   ],
   "source": [
    "import org.apache.spark.sql.SparkSession\n",
    "\n",
    "// Creamos una sesión de Spark\n",
    "val spark = SparkSession.builder.appName(\"pysparkdf\").getOrCreate()"
   ]
  },
  {
   "cell_type": "code",
   "execution_count": 3,
   "id": "360a2529",
   "metadata": {},
   "outputs": [
    {
     "data": {
      "text/plain": [
       "df: org.apache.spark.sql.DataFrame = [name: string, mfr: string ... 14 more fields]\n"
      ]
     },
     "execution_count": 3,
     "metadata": {},
     "output_type": "execute_result"
    }
   ],
   "source": [
    "// Lee el archivo CSV\n",
    "val df = spark.read.option(\"header\", \"true\").csv(\"/Users/rociobenitezgarcia/Documents/csv/cereal.csv\")"
   ]
  },
  {
   "cell_type": "code",
   "execution_count": 4,
   "id": "5a60df02",
   "metadata": {},
   "outputs": [
    {
     "name": "stdout",
     "output_type": "stream",
     "text": [
      "+--------------------+---+----+--------+-------+---+------+-----+-----+------+------+--------+-----+------+----+---------+\n",
      "|                name|mfr|type|calories|protein|fat|sodium|fiber|carbo|sugars|potass|vitamins|shelf|weight|cups|   rating|\n",
      "+--------------------+---+----+--------+-------+---+------+-----+-----+------+------+--------+-----+------+----+---------+\n",
      "|           100% Bran|  N|   C|      70|      4|  1|   130|   10|    5|     6|   280|      25|    3|     1|0.33|68.402973|\n",
      "|   100% Natural Bran|  Q|   C|     120|      3|  5|    15|    2|    8|     8|   135|       0|    3|     1|   1|33.983679|\n",
      "|            All-Bran|  K|   C|      70|      4|  1|   260|    9|    7|     5|   320|      25|    3|     1|0.33|59.425505|\n",
      "|All-Bran with Ext...|  K|   C|      50|      4|  0|   140|   14|    8|     0|   330|      25|    3|     1| 0.5|93.704912|\n",
      "|      Almond Delight|  R|   C|     110|      2|  2|   200|    1|   14|     8|    -1|      25|    3|     1|0.75|34.384843|\n",
      "|Apple Cinnamon Ch...|  G|   C|     110|      2|  2|   180|  1.5| 10.5|    10|    70|      25|    1|     1|0.75|29.509541|\n",
      "|         Apple Jacks|  K|   C|     110|      2|  0|   125|    1|   11|    14|    30|      25|    2|     1|   1|33.174094|\n",
      "|             Basic 4|  G|   C|     130|      3|  2|   210|    2|   18|     8|   100|      25|    3|  1.33|0.75|37.038562|\n",
      "|           Bran Chex|  R|   C|      90|      2|  1|   200|    4|   15|     6|   125|      25|    1|     1|0.67|49.120253|\n",
      "|         Bran Flakes|  P|   C|      90|      3|  0|   210|    5|   13|     5|   190|      25|    3|     1|0.67|53.313813|\n",
      "+--------------------+---+----+--------+-------+---+------+-----+-----+------+------+--------+-----+------+----+---------+\n",
      "only showing top 10 rows\n",
      "\n"
     ]
    }
   ],
   "source": [
    "// Muestra los primeros 10 registros\n",
    "df.show(10)"
   ]
  },
  {
   "cell_type": "code",
   "execution_count": 5,
   "id": "69a347d9",
   "metadata": {},
   "outputs": [
    {
     "name": "stdout",
     "output_type": "stream",
     "text": [
      "root\n",
      " |-- name: string (nullable = true)\n",
      " |-- mfr: string (nullable = true)\n",
      " |-- type: string (nullable = true)\n",
      " |-- calories: string (nullable = true)\n",
      " |-- protein: string (nullable = true)\n",
      " |-- fat: string (nullable = true)\n",
      " |-- sodium: string (nullable = true)\n",
      " |-- fiber: string (nullable = true)\n",
      " |-- carbo: string (nullable = true)\n",
      " |-- sugars: string (nullable = true)\n",
      " |-- potass: string (nullable = true)\n",
      " |-- vitamins: string (nullable = true)\n",
      " |-- shelf: string (nullable = true)\n",
      " |-- weight: string (nullable = true)\n",
      " |-- cups: string (nullable = true)\n",
      " |-- rating: string (nullable = true)\n",
      "\n"
     ]
    }
   ],
   "source": [
    "// Imprimir el esquema de los datos\n",
    "df.printSchema()"
   ]
  },
  {
   "cell_type": "markdown",
   "id": "8d3b1ef0",
   "metadata": {},
   "source": [
    "### Función `select()`\n",
    "\n",
    "Se utiliza para mostrar un subconjunto de columnas seleccionadas de un DataFrame. Para utilizarla, simplemente necesitas pasar los nombres de las columnas que deseas seleccionar.\n",
    "\n",
    "Aquí hay un ejemplo que muestra cómo **seleccionar y mostrar tres columnas específicas del DataFrame**:"
   ]
  },
  {
   "cell_type": "code",
   "execution_count": 7,
   "id": "7552819d",
   "metadata": {},
   "outputs": [
    {
     "name": "stdout",
     "output_type": "stream",
     "text": [
      "+--------------------+---+---------+\n",
      "|                name|mfr|   rating|\n",
      "+--------------------+---+---------+\n",
      "|           100% Bran|  N|68.402973|\n",
      "|   100% Natural Bran|  Q|33.983679|\n",
      "|            All-Bran|  K|59.425505|\n",
      "|All-Bran with Ext...|  K|93.704912|\n",
      "|      Almond Delight|  R|34.384843|\n",
      "|Apple Cinnamon Ch...|  G|29.509541|\n",
      "|         Apple Jacks|  K|33.174094|\n",
      "|             Basic 4|  G|37.038562|\n",
      "|           Bran Chex|  R|49.120253|\n",
      "|         Bran Flakes|  P|53.313813|\n",
      "+--------------------+---+---------+\n",
      "only showing top 10 rows\n",
      "\n"
     ]
    }
   ],
   "source": [
    "df.select(\"name\", \"mfr\", \"rating\").show(10)"
   ]
  },
  {
   "cell_type": "markdown",
   "id": "c3a4197d",
   "metadata": {},
   "source": [
    "Este código imprimirá los **primeros 10 registros** de las columnas `\"name,\" \"mfr,\"` y `\"rating\"` del DataFrame."
   ]
  },
  {
   "cell_type": "markdown",
   "id": "52bdacdd",
   "metadata": {},
   "source": [
    "### Función `withColumn()`\n",
    "\n",
    "Se utiliza para manipular una columna existente o para crear una nueva columna a partir de una columna existente en un DataFrame. Puedes utilizar esta función para realizar transformaciones en los datos o cambiar el tipo de datos de una columna. Aquí hay un ejemplo que demuestra **cómo cambiar el tipo de datos de la columna \"calories\" a un número entero**:"
   ]
  },
  {
   "cell_type": "code",
   "execution_count": 9,
   "id": "061a1c07",
   "metadata": {},
   "outputs": [
    {
     "name": "stdout",
     "output_type": "stream",
     "text": [
      "root\n",
      " |-- name: string (nullable = true)\n",
      " |-- mfr: string (nullable = true)\n",
      " |-- type: string (nullable = true)\n",
      " |-- Calories: integer (nullable = true)\n",
      " |-- protein: string (nullable = true)\n",
      " |-- fat: string (nullable = true)\n",
      " |-- sodium: string (nullable = true)\n",
      " |-- fiber: string (nullable = true)\n",
      " |-- carbo: string (nullable = true)\n",
      " |-- sugars: string (nullable = true)\n",
      " |-- potass: string (nullable = true)\n",
      " |-- vitamins: string (nullable = true)\n",
      " |-- shelf: string (nullable = true)\n",
      " |-- weight: string (nullable = true)\n",
      " |-- cups: string (nullable = true)\n",
      " |-- rating: string (nullable = true)\n",
      "\n"
     ]
    }
   ],
   "source": [
    "df.withColumn(\"Calories\", col(\"calories\").cast(\"Integer\")).printSchema()"
   ]
  },
  {
   "cell_type": "markdown",
   "id": "219b3d94",
   "metadata": {},
   "source": [
    "### Función `groupBy()`\n",
    "\n",
    "Se utiliza para recopilar datos en grupos dentro de un DataFrame y permite realizar funciones agregadas en los datos agrupados. En este caso, estamos agrupando los datos por las columnas \"name\" y \"calories\" y luego contamos el número de filas en cada grupo usando la función `count()`. Finalmente, mostramos el resultado con `show()`. Esta operación es similar a la cláusula SQL `GROUP BY`."
   ]
  },
  {
   "cell_type": "code",
   "execution_count": 10,
   "id": "7f5d6c35",
   "metadata": {},
   "outputs": [
    {
     "name": "stdout",
     "output_type": "stream",
     "text": [
      "+--------------------+--------+-----+\n",
      "|                name|calories|count|\n",
      "+--------------------+--------+-----+\n",
      "|             Basic 4|     130|    1|\n",
      "|         Cocoa Puffs|     110|    1|\n",
      "|Strawberry Fruit ...|      90|    1|\n",
      "|  Great Grains Pecan|     120|    1|\n",
      "|          Wheat Chex|     100|    1|\n",
      "|Mueslix Crispy Blend|     160|    1|\n",
      "|     Raisin Nut Bran|     100|    1|\n",
      "|  Honey Nut Cheerios|     110|    1|\n",
      "|         Corn Flakes|     100|    1|\n",
      "|                Trix|     110|    1|\n",
      "|   Grape Nuts Flakes|     100|    1|\n",
      "|Muesli Raisins; P...|     150|    1|\n",
      "|      Fruity Pebbles|     110|    1|\n",
      "|Shredded Wheat 'n...|      90|    1|\n",
      "|Post Nat. Raisin ...|     120|    1|\n",
      "|   Total Raisin Bran|     140|    1|\n",
      "|           Corn Pops|     110|    1|\n",
      "|  Cracklin' Oat Bran|     110|    1|\n",
      "|Cinnamon Toast Cr...|     120|    1|\n",
      "|                 Kix|     110|    1|\n",
      "+--------------------+--------+-----+\n",
      "only showing top 20 rows\n",
      "\n"
     ]
    }
   ],
   "source": [
    "// Agrupar por \"name\" y \"calories\" y contar las filas en cada grupo\n",
    "df.groupBy(\"name\", \"calories\").count().show()"
   ]
  },
  {
   "cell_type": "markdown",
   "id": "43a64b3c",
   "metadata": {},
   "source": [
    "### Función `orderBy()`\n",
    "\n",
    "Se utiliza para ordenar todas las filas de un DataFrame en función de una columna particular. En este ejemplo, estamos ordenando el DataFrame según la columna \"protein\" en orden ascendente utilizando `asc(\"protein\")`. El resultado se muestra con `show()`. De forma predeterminada, la ordenación se realiza en orden ascendente, pero puedes usar `desc(\"protein\")` para ordenar en orden descendente."
   ]
  },
  {
   "cell_type": "code",
   "execution_count": 11,
   "id": "a690416c",
   "metadata": {},
   "outputs": [
    {
     "name": "stdout",
     "output_type": "stream",
     "text": [
      "+--------------------+---+----+--------+-------+---+------+-----+-----+------+------+--------+-----+------+----+---------+\n",
      "|                name|mfr|type|calories|protein|fat|sodium|fiber|carbo|sugars|potass|vitamins|shelf|weight|cups|   rating|\n",
      "+--------------------+---+----+--------+-------+---+------+-----+-----+------+------+--------+-----+------+----+---------+\n",
      "|        Cap'n'Crunch|  Q|   C|     120|      1|  2|   220|    0|   12|    12|    35|      25|    2|     1|0.75|18.042851|\n",
      "|Cinnamon Toast Cr...|  G|   C|     120|      1|  3|   210|    0|   13|     9|    45|      25|    2|     1|0.75|19.823573|\n",
      "|         Cocoa Puffs|  G|   C|     110|      1|  1|   180|    0|   12|    13|    55|      25|    2|     1|   1|22.736446|\n",
      "|           Corn Pops|  K|   C|     110|      1|  0|    90|    1|   13|    12|    20|      25|    2|     1|   1|35.782791|\n",
      "|       Count Chocula|  G|   C|     110|      1|  1|   180|    0|   12|    13|    65|      25|    2|     1|   1|22.396513|\n",
      "|      Frosted Flakes|  K|   C|     110|      1|  0|   200|    1|   14|    11|    25|      25|    1|     1|0.75|31.435973|\n",
      "|      Fruity Pebbles|  P|   C|     110|      1|  1|   135|    0|   13|    12|    25|      25|    2|     1|0.75|28.025765|\n",
      "|      Golden Grahams|  G|   C|     110|      1|  1|   280|    0|   15|     9|    45|      25|    2|     1|0.75|23.804043|\n",
      "|    Honey Graham Ohs|  Q|   C|     120|      1|  2|   220|    1|   12|    11|    45|      25|    2|     1|   1|21.871292|\n",
      "|          Honey-comb|  P|   C|     110|      1|  0|   180|    0|   14|    11|    35|      25|    1|     1|1.33|28.742414|\n",
      "|         Puffed Rice|  Q|   C|      50|      1|  0|     0|    0|   13|     0|    15|       0|    3|   0.5|   1|60.756112|\n",
      "|           Rice Chex|  R|   C|     110|      1|  0|   240|    0|   23|     2|    30|      25|    1|     1|1.13|41.998933|\n",
      "|                Trix|  G|   C|     110|      1|  1|   140|    0|   13|    12|    25|      25|    2|     1|   1|27.753301|\n",
      "|         Froot Loops|  K|   C|     110|      2|  1|   125|    1|   11|    13|    30|      25|    2|     1|   1|32.207582|\n",
      "|Apple Cinnamon Ch...|  G|   C|     110|      2|  2|   180|  1.5| 10.5|    10|    70|      25|    1|     1|0.75|29.509541|\n",
      "|             Crispix|  K|   C|     110|      2|  0|   220|    1|   21|     3|    30|      25|    3|     1|   1|46.895644|\n",
      "|         Apple Jacks|  K|   C|     110|      2|  0|   125|    1|   11|    14|    30|      25|    2|     1|   1|33.174094|\n",
      "|         Corn Flakes|  K|   C|     100|      2|  0|   290|    1|   21|     2|    35|      25|    1|     1|   1|45.863324|\n",
      "|        Golden Crisp|  P|   C|     100|      2|  0|    45|    0|   11|    15|    40|      25|    1|     1|0.88|35.252444|\n",
      "|Crispy Wheat & Ra...|  G|   C|     100|      2|  1|   140|    2|   11|    10|   120|      25|    3|     1|0.75|36.176196|\n",
      "+--------------------+---+----+--------+-------+---+------+-----+-----+------+------+--------+-----+------+----+---------+\n",
      "only showing top 20 rows\n",
      "\n"
     ]
    }
   ],
   "source": [
    "// Ordenar el DataFrame por la columna \"protein\" en orden ascendente\n",
    "df.orderBy(asc(\"protein\")).show()"
   ]
  },
  {
   "cell_type": "markdown",
   "id": "b50bc1bc",
   "metadata": {},
   "source": [
    "### Función `when()`\n",
    "\n",
    "Muestra la salida en función de una condición particular. Evalúa la condición proporcionada y luego devuelve los valores en consecuencia. En este caso, seleccionamos la columna \"name\" y usamos `when` para verificar si la columna \"vitamins\" es mayor o igual a 25. Si es cierto, mostramos \"rich in vitamins\"; de lo contrario, mostramos \"not rich in vitamins\". El resultado se muestra con `show()`. Esto es útil para aplicar lógica condicional a los datos en una columna y generar una nueva columna con los resultados."
   ]
  },
  {
   "cell_type": "code",
   "execution_count": 12,
   "id": "7c19b769",
   "metadata": {},
   "outputs": [
    {
     "name": "stdout",
     "output_type": "stream",
     "text": [
      "+--------------------+------------------------------------------------------------------------------+\n",
      "|                name|CASE WHEN (vitamins >= 25) THEN rich in vitamins ELSE not rich in vitamins END|\n",
      "+--------------------+------------------------------------------------------------------------------+\n",
      "|           100% Bran|                                                              rich in vitamins|\n",
      "|   100% Natural Bran|                                                          not rich in vitamins|\n",
      "|            All-Bran|                                                              rich in vitamins|\n",
      "|All-Bran with Ext...|                                                              rich in vitamins|\n",
      "|      Almond Delight|                                                              rich in vitamins|\n",
      "|Apple Cinnamon Ch...|                                                              rich in vitamins|\n",
      "|         Apple Jacks|                                                              rich in vitamins|\n",
      "|             Basic 4|                                                              rich in vitamins|\n",
      "|           Bran Chex|                                                              rich in vitamins|\n",
      "|         Bran Flakes|                                                              rich in vitamins|\n",
      "|        Cap'n'Crunch|                                                              rich in vitamins|\n",
      "|            Cheerios|                                                              rich in vitamins|\n",
      "|Cinnamon Toast Cr...|                                                              rich in vitamins|\n",
      "|            Clusters|                                                              rich in vitamins|\n",
      "|         Cocoa Puffs|                                                              rich in vitamins|\n",
      "|           Corn Chex|                                                              rich in vitamins|\n",
      "|         Corn Flakes|                                                              rich in vitamins|\n",
      "|           Corn Pops|                                                              rich in vitamins|\n",
      "|       Count Chocula|                                                              rich in vitamins|\n",
      "|  Cracklin' Oat Bran|                                                              rich in vitamins|\n",
      "+--------------------+------------------------------------------------------------------------------+\n",
      "only showing top 20 rows\n",
      "\n"
     ]
    }
   ],
   "source": [
    "// Usar la función when() para aplicar una condición y seleccionar \"rich in vitamins\" cuando vitamins >= 25\n",
    "df.select(col(\"name\"), when(col(\"vitamins\") >= 25, \"rich in vitamins\").otherwise(\"not rich in vitamins\")).show()"
   ]
  },
  {
   "cell_type": "markdown",
   "id": "b83305e5",
   "metadata": {},
   "source": [
    "### Función `filter()`\n",
    "\n",
    "Filtra los datos en filas según los valores de una columna en particular. En este ejemplo, estamos filtrando los cereales que tienen un valor de calorías igual a 100. Para hacer esto, utilizamos la función `filter` y comparamos la columna \"calories\" con el valor 100. Luego, mostramos el resultado con `show()`. Esto devuelve un DataFrame con solo las filas que cumplen con la condición, es decir, los cereales con 100 calorías.\n",
    "\n",
    "Esta operación es útil para seleccionar un subconjunto específico de datos que cumple con ciertas condiciones, lo que facilita el análisis y la manipulación de datos en un DataFrame."
   ]
  },
  {
   "cell_type": "code",
   "execution_count": 13,
   "id": "fdabd7d9",
   "metadata": {},
   "outputs": [
    {
     "name": "stdout",
     "output_type": "stream",
     "text": [
      "+--------------------+---+----+--------+-------+---+------+-----+-----+------+------+--------+-----+------+----+---------+\n",
      "|                name|mfr|type|calories|protein|fat|sodium|fiber|carbo|sugars|potass|vitamins|shelf|weight|cups|   rating|\n",
      "+--------------------+---+----+--------+-------+---+------+-----+-----+------+------+--------+-----+------+----+---------+\n",
      "|         Corn Flakes|  K|   C|     100|      2|  0|   290|    1|   21|     2|    35|      25|    1|     1|   1|45.863324|\n",
      "|Cream of Wheat (Q...|  N|   H|     100|      3|  0|    80|    1|   21|     0|    -1|       0|    2|     1|   1|64.533816|\n",
      "|Crispy Wheat & Ra...|  G|   C|     100|      2|  1|   140|    2|   11|    10|   120|      25|    3|     1|0.75|36.176196|\n",
      "|         Double Chex|  R|   C|     100|      2|  0|   190|    1|   18|     5|    80|      25|    3|     1|0.75|44.330856|\n",
      "| Frosted Mini-Wheats|  K|   C|     100|      3|  0|     0|    3|   14|     7|   100|      25|    2|     1| 0.8|58.345141|\n",
      "|        Golden Crisp|  P|   C|     100|      2|  0|    45|    0|   11|    15|    40|      25|    1|     1|0.88|35.252444|\n",
      "|   Grape Nuts Flakes|  P|   C|     100|      3|  1|   140|    3|   15|     5|    85|      25|    3|     1|0.88|52.076897|\n",
      "|                Life|  Q|   C|     100|      4|  2|   150|    2|   12|     6|    95|      25|    2|     1|0.67|45.328074|\n",
      "|               Maypo|  A|   H|     100|      4|  1|     0|    0|   16|     3|    95|      25|    2|     1|   1|54.850917|\n",
      "|Multi-Grain Cheerios|  G|   C|     100|      2|  1|   220|    2|   15|     6|    90|      25|    1|     1|   1|40.105965|\n",
      "|          Product 19|  K|   C|     100|      3|  0|   320|    1|   20|     3|    45|     100|    3|     1|   1|41.503540|\n",
      "|  Quaker Oat Squares|  Q|   C|     100|      4|  1|   135|    2|   14|     6|   110|      25|    3|     1| 0.5|49.511874|\n",
      "|      Quaker Oatmeal|  Q|   H|     100|      5|  2|     0|  2.7|   -1|    -1|   110|       0|    1|     1|0.67|50.828392|\n",
      "|     Raisin Nut Bran|  G|   C|     100|      3|  2|   140|  2.5| 10.5|     8|   140|      25|    3|     1| 0.5|39.703400|\n",
      "|   Total Whole Grain|  G|   C|     100|      3|  1|   200|    3|   16|     3|   110|     100|    3|     1|   1|46.658844|\n",
      "|          Wheat Chex|  R|   C|     100|      3|  1|   230|    3|   17|     3|   115|      25|    1|     1|0.67|49.787445|\n",
      "|            Wheaties|  G|   C|     100|      3|  1|   200|    3|   17|     3|   110|      25|    1|     1|   1|51.592193|\n",
      "+--------------------+---+----+--------+-------+---+------+-----+-----+------+------+--------+-----+------+----+---------+\n",
      "\n"
     ]
    },
    {
     "data": {
      "text/plain": [
       "filteredDF: org.apache.spark.sql.Dataset[org.apache.spark.sql.Row] = [name: string, mfr: string ... 14 more fields]\n"
      ]
     },
     "execution_count": 13,
     "metadata": {},
     "output_type": "execute_result"
    }
   ],
   "source": [
    "val filteredDF = df.filter(df(\"calories\") === 100)\n",
    "filteredDF.show()"
   ]
  },
  {
   "cell_type": "markdown",
   "id": "a64b4c0c",
   "metadata": {},
   "source": [
    "### Función `isNull()` / `isNotNull()`\n",
    "\n",
    "Se utiliza para comprobar **si hay valores nulos en un DataFrame**, lo que es fundamental para el procesamiento y la limpieza de datos. Si deseas verificar si hay valores no nulos en una columna específica, puedes usar la función isNotNull() en combinación con filter() para filtrar las filas que cumplen con esta condición."
   ]
  },
  {
   "cell_type": "code",
   "execution_count": 19,
   "id": "ae5a6cc6",
   "metadata": {},
   "outputs": [
    {
     "name": "stdout",
     "output_type": "stream",
     "text": [
      "+--------------------+---+----+--------+-------+---+------+-----+-----+------+------+--------+-----+------+----+---------+\n",
      "|                name|mfr|type|calories|protein|fat|sodium|fiber|carbo|sugars|potass|vitamins|shelf|weight|cups|   rating|\n",
      "+--------------------+---+----+--------+-------+---+------+-----+-----+------+------+--------+-----+------+----+---------+\n",
      "|           100% Bran|  N|   C|      70|      4|  1|   130|   10|    5|     6|   280|      25|    3|     1|0.33|68.402973|\n",
      "|   100% Natural Bran|  Q|   C|     120|      3|  5|    15|    2|    8|     8|   135|       0|    3|     1|   1|33.983679|\n",
      "|            All-Bran|  K|   C|      70|      4|  1|   260|    9|    7|     5|   320|      25|    3|     1|0.33|59.425505|\n",
      "|All-Bran with Ext...|  K|   C|      50|      4|  0|   140|   14|    8|     0|   330|      25|    3|     1| 0.5|93.704912|\n",
      "|      Almond Delight|  R|   C|     110|      2|  2|   200|    1|   14|     8|    -1|      25|    3|     1|0.75|34.384843|\n",
      "|Apple Cinnamon Ch...|  G|   C|     110|      2|  2|   180|  1.5| 10.5|    10|    70|      25|    1|     1|0.75|29.509541|\n",
      "|         Apple Jacks|  K|   C|     110|      2|  0|   125|    1|   11|    14|    30|      25|    2|     1|   1|33.174094|\n",
      "|             Basic 4|  G|   C|     130|      3|  2|   210|    2|   18|     8|   100|      25|    3|  1.33|0.75|37.038562|\n",
      "|           Bran Chex|  R|   C|      90|      2|  1|   200|    4|   15|     6|   125|      25|    1|     1|0.67|49.120253|\n",
      "|         Bran Flakes|  P|   C|      90|      3|  0|   210|    5|   13|     5|   190|      25|    3|     1|0.67|53.313813|\n",
      "|        Cap'n'Crunch|  Q|   C|     120|      1|  2|   220|    0|   12|    12|    35|      25|    2|     1|0.75|18.042851|\n",
      "|            Cheerios|  G|   C|     110|      6|  2|   290|    2|   17|     1|   105|      25|    1|     1|1.25|50.764999|\n",
      "|Cinnamon Toast Cr...|  G|   C|     120|      1|  3|   210|    0|   13|     9|    45|      25|    2|     1|0.75|19.823573|\n",
      "|            Clusters|  G|   C|     110|      3|  2|   140|    2|   13|     7|   105|      25|    3|     1| 0.5|40.400208|\n",
      "|         Cocoa Puffs|  G|   C|     110|      1|  1|   180|    0|   12|    13|    55|      25|    2|     1|   1|22.736446|\n",
      "|           Corn Chex|  R|   C|     110|      2|  0|   280|    0|   22|     3|    25|      25|    1|     1|   1|41.445019|\n",
      "|         Corn Flakes|  K|   C|     100|      2|  0|   290|    1|   21|     2|    35|      25|    1|     1|   1|45.863324|\n",
      "|           Corn Pops|  K|   C|     110|      1|  0|    90|    1|   13|    12|    20|      25|    2|     1|   1|35.782791|\n",
      "|       Count Chocula|  G|   C|     110|      1|  1|   180|    0|   12|    13|    65|      25|    2|     1|   1|22.396513|\n",
      "|  Cracklin' Oat Bran|  K|   C|     110|      3|  3|   140|    4|   10|     7|   160|      25|    3|     1| 0.5|40.448772|\n",
      "+--------------------+---+----+--------+-------+---+------+-----+-----+------+------+--------+-----+------+----+---------+\n",
      "only showing top 20 rows\n",
      "\n"
     ]
    },
    {
     "data": {
      "text/plain": [
       "filteredDF: org.apache.spark.sql.Dataset[org.apache.spark.sql.Row] = [name: string, mfr: string ... 14 more fields]\n"
      ]
     },
     "execution_count": 19,
     "metadata": {},
     "output_type": "execute_result"
    }
   ],
   "source": [
    "// Filtrar las filas que no tienen un valor nulo en la columna \"name\"\n",
    "val filteredDF = df.filter($\"name\".isNotNull)\n",
    "filteredDF.show()"
   ]
  },
  {
   "cell_type": "markdown",
   "id": "1efa70d7",
   "metadata": {},
   "source": [
    "Estas dos funciones se utilizan para verificar la presencia de valores nulos en el DataFrame. `isNull()` comprueba si una columna contiene valores nulos, mientras que `isNotNull()` verifica si no hay valores nulos en una columna. Estas funciones son esenciales para la *limpieza y procesamiento de datos*."
   ]
  },
  {
   "cell_type": "code",
   "execution_count": 20,
   "id": "75a4ea01",
   "metadata": {},
   "outputs": [
    {
     "name": "stdout",
     "output_type": "stream",
     "text": [
      "+----+---+----+--------+-------+---+------+-----+-----+------+------+--------+-----+------+----+------+\n",
      "|name|mfr|type|calories|protein|fat|sodium|fiber|carbo|sugars|potass|vitamins|shelf|weight|cups|rating|\n",
      "+----+---+----+--------+-------+---+------+-----+-----+------+------+--------+-----+------+----+------+\n",
      "+----+---+----+--------+-------+---+------+-----+-----+------+------+--------+-----+------+----+------+\n",
      "\n"
     ]
    },
    {
     "data": {
      "text/plain": [
       "filteredNullDF: org.apache.spark.sql.Dataset[org.apache.spark.sql.Row] = [name: string, mfr: string ... 14 more fields]\n"
      ]
     },
     "execution_count": 20,
     "metadata": {},
     "output_type": "execute_result"
    }
   ],
   "source": [
    "// Filtrar las filas que tienen un valor nulo en la columna \"name\"\n",
    "val filteredNullDF = df.filter($\"name\".isNull)\n",
    "\n",
    "filteredNullDF.show()"
   ]
  },
  {
   "cell_type": "markdown",
   "id": "07fff382",
   "metadata": {},
   "source": [
    "Se concluye que **no hay valores nulos en el dataset**. Por lo tanto, se muestra un marco de datos vacío."
   ]
  }
 ],
 "metadata": {
  "kernelspec": {
   "display_name": "spylon-kernel",
   "language": "scala",
   "name": "spylon-kernel"
  },
  "language_info": {
   "codemirror_mode": "text/x-scala",
   "file_extension": ".scala",
   "help_links": [
    {
     "text": "MetaKernel Magics",
     "url": "https://metakernel.readthedocs.io/en/latest/source/README.html"
    }
   ],
   "mimetype": "text/x-scala",
   "name": "scala",
   "pygments_lexer": "scala",
   "version": "0.4.1"
  }
 },
 "nbformat": 4,
 "nbformat_minor": 5
}
